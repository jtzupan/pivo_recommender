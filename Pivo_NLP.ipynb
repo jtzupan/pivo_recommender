{
 "cells": [
  {
   "cell_type": "code",
   "execution_count": null,
   "metadata": {
    "collapsed": true
   },
   "outputs": [],
   "source": []
  },
  {
   "cell_type": "code",
   "execution_count": null,
   "metadata": {
    "collapsed": true
   },
   "outputs": [],
   "source": []
  },
  {
   "cell_type": "code",
   "execution_count": 61,
   "metadata": {
    "collapsed": true
   },
   "outputs": [],
   "source": [
    "# run scraper.py to scrap data and save it to review_text_all.txt\n",
    "import scraper as s\n",
    "s.runScraper()"
   ]
  },
  {
   "cell_type": "code",
   "execution_count": null,
   "metadata": {
    "collapsed": true
   },
   "outputs": [],
   "source": []
  },
  {
   "cell_type": "code",
   "execution_count": 1,
   "metadata": {
    "collapsed": true
   },
   "outputs": [],
   "source": [
    "import itertools as it\n",
    "import os\n",
    "import pandas as pd\n",
    "import spacy"
   ]
  },
  {
   "cell_type": "code",
   "execution_count": 2,
   "metadata": {
    "collapsed": true
   },
   "outputs": [],
   "source": [
    "nlp = spacy.load('en')"
   ]
  },
  {
   "cell_type": "markdown",
   "metadata": {
    "collapsed": true
   },
   "source": [
    "## Phrase Modeling"
   ]
  },
  {
   "cell_type": "markdown",
   "metadata": {},
   "source": [
    "Phrase modeling is an approach to learning combinations of tokens that together represent meaning multi-word concepts.  These phrase models are developed by looping over the words in the corpus and finding words that appear together more than they should by random chance.  The formula used to determine if whether two tokens $A$ and $B$ constitute a phrase is:\n",
    "\n",
    "$$\n",
    "\\frac {count(A B) - count_{min}}\n",
    "{count(A) * count(B)}\n",
    "*N > threshold\n",
    "$$\n",
    "\n",
    "where:\n",
    "* $count(A)$ is the number of times $A$ appears in the corpus\n",
    "* $count(B)$ is the number of times $B$ appears in the corpus\n",
    "* $count(AB)$ is the number of times $AB$ appear in the corpus in that order\n",
    "* $N$ is the total size of the corpus vocabulary\n",
    "* $count_{min}$ is a user-defined parameter to ensure that the phrase appears a minimum number of times\n",
    "* $threshold$ is a user-defined paramter to control how strong the relationship must be before the two tokens are considered a single concept\n",
    "\n",
    "Once we have trained the phrase model we can apply it to the reviews in our corpus.  It will consider the multiworded tokens to be single phrases.\n",
    "\n",
    "The gensim library will help us with phrase modeling, specifically the Phrases class."
   ]
  },
  {
   "cell_type": "code",
   "execution_count": 3,
   "metadata": {
    "collapsed": true
   },
   "outputs": [],
   "source": [
    "from gensim.models import Phrases\n",
    "from gensim.models.phrases import Phraser\n",
    "from gensim.models.word2vec import LineSentence"
   ]
  },
  {
   "cell_type": "code",
   "execution_count": 8,
   "metadata": {
    "collapsed": true
   },
   "outputs": [],
   "source": [
    "%mv beerAdvocateScraper/beerAdvocateScraper/BeerAdvocateReviews.csv ./intermediate/"
   ]
  },
  {
   "cell_type": "code",
   "execution_count": null,
   "metadata": {
    "collapsed": true
   },
   "outputs": [],
   "source": []
  },
  {
   "cell_type": "code",
   "execution_count": 10,
   "metadata": {
    "collapsed": true
   },
   "outputs": [],
   "source": [
    "def punct_space(token):\n",
    "    \"\"\"\n",
    "    helper function to eliminate tokens\n",
    "    that are pure punctuation or whitespace\n",
    "    \"\"\"\n",
    "    \n",
    "    return token.is_punct or token.is_space\n",
    "\n",
    "def line_review(filename):\n",
    "    \"\"\"\n",
    "    generator function to read in reviews from the file\n",
    "    and un-escape the original line breaks in the text\n",
    "    \"\"\"\n",
    "    \n",
    "    with open(filename, encoding='utf_8') as f:\n",
    "        for review in f:\n",
    "            yield review.split(',')[1].replace('\\\\n', '\\n')\n",
    "            \n",
    "def lemmatized_sentence_corpus(filename):\n",
    "    \"\"\"\n",
    "    generator function to use spaCy to parse reviews,\n",
    "    lemmatize the text, and yield sentences\n",
    "    \"\"\"\n",
    "    \n",
    "    for parsed_review in nlp.pipe(line_review(filename),\n",
    "                                  batch_size=10000, n_threads=4):\n",
    "        \n",
    "        for sent in parsed_review.sents:\n",
    "            yield u' '.join([token.lemma_ for token in sent\n",
    "                             if not punct_space(token)])"
   ]
  },
  {
   "cell_type": "code",
   "execution_count": 6,
   "metadata": {
    "collapsed": true
   },
   "outputs": [],
   "source": [
    "intermediate_directory = os.path.join('.', 'intermediate')\n",
    "review_txt_filepath = os.path.join(intermediate_directory,'BeerAdvocateReviews.csv')\n",
    "ngram_all = os.path.join(intermediate_directory, 'ngram_all')\n",
    "unigram_sentences_filepath = os.path.join(ngram_all,\n",
    "                                          'unigram_sentences_all.txt')"
   ]
  },
  {
   "cell_type": "markdown",
   "metadata": {},
   "source": [
    "We will use `lemmatized_sentence_corpus` generator to loop over the original review text, segmenting the reviews into individual sentences and normalizing the text.  We will write this data back out to a new file (`unigram_sentence_all`), with one normalized sentence per line.  We will use this data for learning our phrase models."
   ]
  },
  {
   "cell_type": "code",
   "execution_count": 11,
   "metadata": {},
   "outputs": [
    {
     "name": "stdout",
     "output_type": "stream",
     "text": [
      "reviewtext\n",
      "2014 vintage\n",
      "black and thick\n",
      "tan head\n",
      "nose be perfect with huge maple syrup and coffee\n",
      "bourbon and vanilla\n",
      "good breakfast ever\n",
      "taste maple vanilla bourbon and oak\n",
      "everything -PRON- want in a beer\n",
      "not overly roasted\n",
      "just perfect\n",
      "full bodied\n",
      "good carbonation\n",
      "end with maple syrup\n",
      "amazing\n",
      "that be all\n",
      "can not believe -PRON- live up to the hype\n",
      "12 oz\n",
      "bottle pour into a snifter\n",
      "no bottle number\n",
      "appearance inky black\n",
      "stain the glass again\n",
      "big and dark head than mornin delight and assassin\n",
      "great surface wisps\n",
      "smell bourbon\n",
      "maple\n",
      "vanilla\n",
      "dark chocolate\n",
      "everything -PRON- would want in a stout\n",
      "the bourbon do take over\n",
      "serve alongside mornin delight and assassin\n",
      "the beer be near black with a filmy beige head\n",
      "all hype and bias aside\n"
     ]
    }
   ],
   "source": [
    "with open(unigram_sentences_filepath, 'w', encoding='utf_8') as f:\n",
    "    for sentence in lemmatized_sentence_corpus(review_txt_filepath):\n",
    "        print(sentence)\n",
    "        f.write(sentence + '\\n')"
   ]
  },
  {
   "cell_type": "markdown",
   "metadata": {
    "collapsed": true
   },
   "source": [
    "Our data in the `unigram_sentences_all` file is now organized as a large text file with one sentence per line.  This format allows us to use gensim's LineSentence class, a convenient iterator for working with gensim's other components.  It *streams* the documents/sentences from disk, so you never have ot hold the entire corpus in RAM at once.  This allows you to scale the modeling to a very large corpora."
   ]
  },
  {
   "cell_type": "code",
   "execution_count": 12,
   "metadata": {
    "collapsed": true
   },
   "outputs": [],
   "source": [
    "unigram_sentences = LineSentence(unigram_sentences_filepath)"
   ]
  },
  {
   "cell_type": "code",
   "execution_count": 13,
   "metadata": {},
   "outputs": [
    {
     "name": "stdout",
     "output_type": "stream",
     "text": [
      "bourbon and vanilla\n",
      " \n",
      "good breakfast ever\n",
      " \n"
     ]
    }
   ],
   "source": [
    "for unigram_sentence in it.islice(unigram_sentences, 5,7):\n",
    "    print(u' '.join(unigram_sentence))\n",
    "    print(u' ')"
   ]
  },
  {
   "cell_type": "code",
   "execution_count": 14,
   "metadata": {
    "collapsed": true
   },
   "outputs": [],
   "source": [
    "bigram_model_file = os.path.join(ngram_all, 'bigram_model')"
   ]
  },
  {
   "cell_type": "code",
   "execution_count": 15,
   "metadata": {
    "collapsed": true
   },
   "outputs": [],
   "source": [
    "if 1==1:\n",
    "    phrases = Phrases(unigram_sentences)\n",
    "    bigram_model = Phraser(phrases)\n",
    "    bigram_model.save(bigram_model_file)\n",
    "    \n",
    "bigram_model = Phrases.load(bigram_model_file)"
   ]
  },
  {
   "cell_type": "code",
   "execution_count": 16,
   "metadata": {
    "collapsed": true
   },
   "outputs": [],
   "source": [
    "bigram_sentences_filepath = os.path.join(ngram_all,'bigram_sentences_all.txt')"
   ]
  },
  {
   "cell_type": "code",
   "execution_count": 17,
   "metadata": {
    "collapsed": true
   },
   "outputs": [],
   "source": [
    "with open(bigram_sentences_filepath, 'w', encoding='utf_8') as f:\n",
    "\n",
    "    for unigram_sentence in unigram_sentences:\n",
    "\n",
    "        bigram_sentence = u' '.join(bigram_model[unigram_sentence])\n",
    "\n",
    "        f.write(bigram_sentence + '\\n')"
   ]
  },
  {
   "cell_type": "code",
   "execution_count": 18,
   "metadata": {
    "collapsed": true
   },
   "outputs": [],
   "source": [
    "bigram_sentences = LineSentence(bigram_sentences_filepath)"
   ]
  },
  {
   "cell_type": "code",
   "execution_count": 19,
   "metadata": {},
   "outputs": [
    {
     "name": "stdout",
     "output_type": "stream",
     "text": [
      "bourbon and vanilla\n",
      "\n",
      "good breakfast ever\n",
      "\n"
     ]
    }
   ],
   "source": [
    "for bigram_sentence in it.islice(bigram_sentences, 5, 7):\n",
    "    print(u' '.join(bigram_sentence))\n",
    "    print(u'')"
   ]
  },
  {
   "cell_type": "code",
   "execution_count": 20,
   "metadata": {
    "collapsed": true
   },
   "outputs": [],
   "source": [
    "trigram_model_filepath = os.path.join(ngram_all, 'trigram_model')"
   ]
  },
  {
   "cell_type": "code",
   "execution_count": 21,
   "metadata": {
    "collapsed": true
   },
   "outputs": [],
   "source": [
    "if 1 == 1:\n",
    "\n",
    "    phrases_trigram = Phrases(bigram_sentences)\n",
    "    trigram_model = Phraser(phrases_trigram)\n",
    "    trigram_model.save(trigram_model_filepath)\n",
    "    \n",
    "# load the finished model from disk\n",
    "trigram_model = Phrases.load(trigram_model_filepath)"
   ]
  },
  {
   "cell_type": "code",
   "execution_count": null,
   "metadata": {
    "collapsed": true
   },
   "outputs": [],
   "source": []
  },
  {
   "cell_type": "code",
   "execution_count": 22,
   "metadata": {
    "collapsed": true
   },
   "outputs": [],
   "source": [
    "if 1==1:\n",
    "    phrases = Phrases(unigram_sentences)\n",
    "    bigram_model = Phraser(phrases)\n",
    "    bigram_model.save(bigram_model_file)\n",
    "    \n",
    "bigram_model = Phrases.load(bigram_model_file)"
   ]
  },
  {
   "cell_type": "code",
   "execution_count": 23,
   "metadata": {
    "collapsed": true
   },
   "outputs": [],
   "source": [
    "trigram_sentences_filepath = os.path.join(ngram_all, 'trigram_sentences_all.txt')"
   ]
  },
  {
   "cell_type": "code",
   "execution_count": 24,
   "metadata": {
    "collapsed": true
   },
   "outputs": [],
   "source": [
    "with open(trigram_sentences_filepath, 'w', encoding='utf_8') as f:\n",
    "\n",
    "    for bigram_sentence in bigram_sentences:\n",
    "\n",
    "        trigram_sentence = u' '.join(trigram_model[bigram_sentence])\n",
    "\n",
    "        f.write(trigram_sentence + '\\n')"
   ]
  },
  {
   "cell_type": "code",
   "execution_count": 25,
   "metadata": {
    "collapsed": true
   },
   "outputs": [],
   "source": [
    "trigram_sentences = LineSentence(trigram_sentences_filepath)"
   ]
  },
  {
   "cell_type": "code",
   "execution_count": 26,
   "metadata": {},
   "outputs": [
    {
     "name": "stdout",
     "output_type": "stream",
     "text": [
      "tan head\n",
      "\n",
      "nose be perfect with huge maple syrup and coffee\n",
      "\n"
     ]
    }
   ],
   "source": [
    "for trigram_sentence in it.islice(trigram_sentences, 3, 5):\n",
    "    print(u' '.join(trigram_sentence))\n",
    "    print(u'')"
   ]
  },
  {
   "cell_type": "code",
   "execution_count": 27,
   "metadata": {
    "collapsed": true
   },
   "outputs": [],
   "source": [
    "trigram_reviews_filepath = os.path.join(intermediate_directory,\n",
    "                                        'trigram_transformed_reviews_all.txt')"
   ]
  },
  {
   "cell_type": "code",
   "execution_count": 28,
   "metadata": {
    "collapsed": true
   },
   "outputs": [],
   "source": [
    "from spacy.lang.en.stop_words import STOP_WORDS"
   ]
  },
  {
   "cell_type": "code",
   "execution_count": 29,
   "metadata": {
    "collapsed": true
   },
   "outputs": [],
   "source": [
    "\n",
    "with open(trigram_reviews_filepath, 'w', encoding='utf_8') as f:\n",
    "\n",
    "    for parsed_review in nlp.pipe(line_review(review_txt_filepath),\n",
    "                                  batch_size=10000, n_threads=4):\n",
    "\n",
    "        # lemmatize the text, removing punctuation and whitespace\n",
    "        unigram_review = [token.lemma_ for token in parsed_review\n",
    "                          if not punct_space(token)]\n",
    "\n",
    "        # apply the first-order and second-order phrase models\n",
    "        bigram_review = bigram_model[unigram_review]\n",
    "        trigram_review = trigram_model[bigram_review]\n",
    "\n",
    "        # remove any remaining stopwords\n",
    "        trigram_review = [term for term in trigram_review\n",
    "                          if term not in STOP_WORDS]\n",
    "        \n",
    "        # remove pronouns\n",
    "        trigram_review = [term for term in trigram_review\n",
    "                          if term !='-PRON-']\n",
    "        \n",
    "\n",
    "        # write the transformed review as a line in the new file\n",
    "        trigram_review = u' '.join(trigram_review)\n",
    "        f.write(trigram_review + '\\n')"
   ]
  },
  {
   "cell_type": "code",
   "execution_count": 31,
   "metadata": {},
   "outputs": [
    {
     "name": "stdout",
     "output_type": "stream",
     "text": [
      "Original:\n",
      "\n",
      "Black and thick. Tan head. Nose is perfect with huge maple syrup and coffee. Bourbon and vanilla. Best breakfast ever. Taste: maple vanilla bourbon and oak. Everything I want in a beer. Not overly roasted. Just perfect.Full bodied. Good carbonation. Ends with maple syrup.Amazing. That's all. Cannot believe it lives up to the hype.\n",
      "\n",
      "----\n",
      "\n",
      "Transformed:\n",
      "\n",
      "black thick tan head nose perfect huge maple syrup coffee bourbon vanilla good breakfast taste maple vanilla bourbon oak want beer overly roasted perfect bodied good carbonation end maple syrup amazing believe live hype\n",
      "\n"
     ]
    }
   ],
   "source": [
    "print(u'Original:' + u'\\n')\n",
    "\n",
    "for review in it.islice(line_review(review_txt_filepath), 2, 3):\n",
    "    print(review)\n",
    "\n",
    "print(u'----' + u'\\n')\n",
    "print(u'Transformed:' + u'\\n')\n",
    "\n",
    "with open(trigram_reviews_filepath, encoding='utf_8') as f:\n",
    "    for review in it.islice(f, 2, 3):\n",
    "        print(review)"
   ]
  },
  {
   "cell_type": "markdown",
   "metadata": {},
   "source": [
    "## Word2Vec"
   ]
  },
  {
   "cell_type": "markdown",
   "metadata": {},
   "source": [
    "The goal of *word vector embedding models*, or *word vector models* for short is to learn dense numerical representations of each term in a corpus vocabulary.  If the model is succesful, the vectors it learns should encode some information about the *meaning* or *concept* the term represents, and the relationship between it and other terms in the vocabulary.  Word vector models are fully unsupervised &mdash; they learn all of these meaning and relationships solely by analyzing the text of the corpus, without any advanced knowledge provided."
   ]
  },
  {
   "cell_type": "code",
   "execution_count": 35,
   "metadata": {
    "collapsed": true
   },
   "outputs": [],
   "source": [
    "from gensim.models import Word2Vec\n",
    "\n",
    "trigram_sentences = LineSentence(trigram_sentences_filepath)\n",
    "word2vec_filepath = os.path.join(intermediate_directory, 'word2vec_model_all')"
   ]
  },
  {
   "cell_type": "code",
   "execution_count": 41,
   "metadata": {},
   "outputs": [
    {
     "name": "stdout",
     "output_type": "stream",
     "text": [
      "Trained model for 5 epochs.\n"
     ]
    }
   ],
   "source": [
    "if 1==1:\n",
    "    \n",
    "    # initiate the model and perform one epoch of training\n",
    "    beer2vec = Word2Vec(trigram_sentences, size=100, window=5,\n",
    "                       min_count=1, sg=1) #workers=?\n",
    "    beer2vec.save(word2vec_filepath)\n",
    "    \n",
    "    #perform the next n epochs of training\n",
    "    for i in range(1, 5):\n",
    "        beer2vec.train(trigram_sentences, total_examples=beer2vec.corpus_count, epochs=2)\n",
    "        beer2vec.save(word2vec_filepath)\n",
    "        \n",
    "        \n",
    "#load the finished model from disk\n",
    "beer2vec = Word2Vec.load(word2vec_filepath)\n",
    "beer2vec.init_sims()\n",
    "\n",
    "print(f'Trained model for {beer2vec.train_count} epochs.')"
   ]
  },
  {
   "cell_type": "code",
   "execution_count": null,
   "metadata": {
    "collapsed": true
   },
   "outputs": [],
   "source": []
  },
  {
   "cell_type": "code",
   "execution_count": 83,
   "metadata": {},
   "outputs": [
    {
     "data": {
      "text/html": [
       "<div>\n",
       "<style>\n",
       "    .dataframe thead tr:only-child th {\n",
       "        text-align: right;\n",
       "    }\n",
       "\n",
       "    .dataframe thead th {\n",
       "        text-align: left;\n",
       "    }\n",
       "\n",
       "    .dataframe tbody tr th {\n",
       "        vertical-align: top;\n",
       "    }\n",
       "</style>\n",
       "<table border=\"1\" class=\"dataframe\">\n",
       "  <thead>\n",
       "    <tr style=\"text-align: right;\">\n",
       "      <th></th>\n",
       "      <th>0</th>\n",
       "      <th>1</th>\n",
       "      <th>2</th>\n",
       "      <th>3</th>\n",
       "      <th>4</th>\n",
       "      <th>5</th>\n",
       "      <th>6</th>\n",
       "      <th>7</th>\n",
       "      <th>8</th>\n",
       "      <th>9</th>\n",
       "      <th>...</th>\n",
       "      <th>90</th>\n",
       "      <th>91</th>\n",
       "      <th>92</th>\n",
       "      <th>93</th>\n",
       "      <th>94</th>\n",
       "      <th>95</th>\n",
       "      <th>96</th>\n",
       "      <th>97</th>\n",
       "      <th>98</th>\n",
       "      <th>99</th>\n",
       "    </tr>\n",
       "  </thead>\n",
       "  <tbody>\n",
       "    <tr>\n",
       "      <th>and</th>\n",
       "      <td>0.015978</td>\n",
       "      <td>0.143934</td>\n",
       "      <td>0.051357</td>\n",
       "      <td>0.111904</td>\n",
       "      <td>-0.042628</td>\n",
       "      <td>0.020229</td>\n",
       "      <td>-0.103939</td>\n",
       "      <td>-0.142692</td>\n",
       "      <td>-0.056379</td>\n",
       "      <td>0.048958</td>\n",
       "      <td>...</td>\n",
       "      <td>-0.135671</td>\n",
       "      <td>-0.085880</td>\n",
       "      <td>0.007949</td>\n",
       "      <td>0.081297</td>\n",
       "      <td>-0.049908</td>\n",
       "      <td>-0.056891</td>\n",
       "      <td>-0.123246</td>\n",
       "      <td>0.028500</td>\n",
       "      <td>-0.018073</td>\n",
       "      <td>0.150282</td>\n",
       "    </tr>\n",
       "    <tr>\n",
       "      <th>maple</th>\n",
       "      <td>0.101115</td>\n",
       "      <td>-0.131336</td>\n",
       "      <td>-0.005772</td>\n",
       "      <td>0.145359</td>\n",
       "      <td>-0.058738</td>\n",
       "      <td>-0.022463</td>\n",
       "      <td>-0.154244</td>\n",
       "      <td>-0.142868</td>\n",
       "      <td>0.030071</td>\n",
       "      <td>-0.150530</td>\n",
       "      <td>...</td>\n",
       "      <td>0.018010</td>\n",
       "      <td>0.122778</td>\n",
       "      <td>0.147942</td>\n",
       "      <td>0.132878</td>\n",
       "      <td>0.065912</td>\n",
       "      <td>-0.145626</td>\n",
       "      <td>-0.024953</td>\n",
       "      <td>0.075296</td>\n",
       "      <td>0.121749</td>\n",
       "      <td>0.049563</td>\n",
       "    </tr>\n",
       "    <tr>\n",
       "      <th>bourbon</th>\n",
       "      <td>-0.113796</td>\n",
       "      <td>0.156293</td>\n",
       "      <td>-0.069174</td>\n",
       "      <td>-0.050653</td>\n",
       "      <td>0.135524</td>\n",
       "      <td>0.060072</td>\n",
       "      <td>0.143107</td>\n",
       "      <td>0.117282</td>\n",
       "      <td>-0.154576</td>\n",
       "      <td>0.143835</td>\n",
       "      <td>...</td>\n",
       "      <td>-0.114083</td>\n",
       "      <td>-0.058499</td>\n",
       "      <td>-0.085687</td>\n",
       "      <td>0.129504</td>\n",
       "      <td>0.141659</td>\n",
       "      <td>0.018839</td>\n",
       "      <td>0.032291</td>\n",
       "      <td>-0.014277</td>\n",
       "      <td>0.019698</td>\n",
       "      <td>0.024540</td>\n",
       "    </tr>\n",
       "    <tr>\n",
       "      <th>a</th>\n",
       "      <td>-0.149148</td>\n",
       "      <td>-0.023431</td>\n",
       "      <td>-0.022112</td>\n",
       "      <td>-0.032581</td>\n",
       "      <td>-0.110569</td>\n",
       "      <td>-0.046971</td>\n",
       "      <td>0.053731</td>\n",
       "      <td>-0.158839</td>\n",
       "      <td>-0.020142</td>\n",
       "      <td>0.154723</td>\n",
       "      <td>...</td>\n",
       "      <td>-0.160613</td>\n",
       "      <td>0.005670</td>\n",
       "      <td>0.102368</td>\n",
       "      <td>-0.035192</td>\n",
       "      <td>0.142139</td>\n",
       "      <td>-0.167558</td>\n",
       "      <td>0.169501</td>\n",
       "      <td>-0.122180</td>\n",
       "      <td>-0.114765</td>\n",
       "      <td>0.165801</td>\n",
       "    </tr>\n",
       "    <tr>\n",
       "      <th>the</th>\n",
       "      <td>-0.174988</td>\n",
       "      <td>0.047710</td>\n",
       "      <td>-0.156304</td>\n",
       "      <td>-0.113079</td>\n",
       "      <td>0.159340</td>\n",
       "      <td>0.157813</td>\n",
       "      <td>0.127550</td>\n",
       "      <td>-0.096776</td>\n",
       "      <td>0.078790</td>\n",
       "      <td>0.064579</td>\n",
       "      <td>...</td>\n",
       "      <td>0.130374</td>\n",
       "      <td>0.080642</td>\n",
       "      <td>-0.132150</td>\n",
       "      <td>-0.101746</td>\n",
       "      <td>0.100331</td>\n",
       "      <td>-0.032110</td>\n",
       "      <td>0.129698</td>\n",
       "      <td>0.143644</td>\n",
       "      <td>0.029276</td>\n",
       "      <td>0.158507</td>\n",
       "    </tr>\n",
       "    <tr>\n",
       "      <th>black</th>\n",
       "      <td>-0.021093</td>\n",
       "      <td>0.055768</td>\n",
       "      <td>-0.148692</td>\n",
       "      <td>-0.154771</td>\n",
       "      <td>-0.156615</td>\n",
       "      <td>0.060657</td>\n",
       "      <td>-0.017819</td>\n",
       "      <td>-0.116940</td>\n",
       "      <td>0.031634</td>\n",
       "      <td>-0.048496</td>\n",
       "      <td>...</td>\n",
       "      <td>-0.100506</td>\n",
       "      <td>0.057299</td>\n",
       "      <td>-0.134649</td>\n",
       "      <td>-0.091304</td>\n",
       "      <td>-0.079897</td>\n",
       "      <td>0.126747</td>\n",
       "      <td>-0.013513</td>\n",
       "      <td>-0.079478</td>\n",
       "      <td>-0.157572</td>\n",
       "      <td>-0.158867</td>\n",
       "    </tr>\n",
       "    <tr>\n",
       "      <th>head</th>\n",
       "      <td>-0.016547</td>\n",
       "      <td>-0.150902</td>\n",
       "      <td>-0.093186</td>\n",
       "      <td>-0.062576</td>\n",
       "      <td>0.112673</td>\n",
       "      <td>0.159875</td>\n",
       "      <td>-0.133373</td>\n",
       "      <td>-0.022541</td>\n",
       "      <td>-0.008731</td>\n",
       "      <td>0.106453</td>\n",
       "      <td>...</td>\n",
       "      <td>-0.047213</td>\n",
       "      <td>0.067650</td>\n",
       "      <td>-0.147223</td>\n",
       "      <td>0.143612</td>\n",
       "      <td>-0.061054</td>\n",
       "      <td>0.012119</td>\n",
       "      <td>0.119257</td>\n",
       "      <td>0.034336</td>\n",
       "      <td>-0.139670</td>\n",
       "      <td>-0.003154</td>\n",
       "    </tr>\n",
       "    <tr>\n",
       "      <th>be</th>\n",
       "      <td>-0.008067</td>\n",
       "      <td>0.030580</td>\n",
       "      <td>0.080896</td>\n",
       "      <td>0.139443</td>\n",
       "      <td>-0.103838</td>\n",
       "      <td>-0.064827</td>\n",
       "      <td>0.014595</td>\n",
       "      <td>0.160229</td>\n",
       "      <td>-0.168094</td>\n",
       "      <td>0.136249</td>\n",
       "      <td>...</td>\n",
       "      <td>0.134558</td>\n",
       "      <td>-0.053758</td>\n",
       "      <td>0.099559</td>\n",
       "      <td>-0.032466</td>\n",
       "      <td>-0.148966</td>\n",
       "      <td>0.118189</td>\n",
       "      <td>-0.072547</td>\n",
       "      <td>-0.029050</td>\n",
       "      <td>0.066646</td>\n",
       "      <td>0.168291</td>\n",
       "    </tr>\n",
       "    <tr>\n",
       "      <th>with</th>\n",
       "      <td>0.068713</td>\n",
       "      <td>-0.060563</td>\n",
       "      <td>-0.016556</td>\n",
       "      <td>0.008306</td>\n",
       "      <td>0.132369</td>\n",
       "      <td>-0.028424</td>\n",
       "      <td>0.065621</td>\n",
       "      <td>0.153159</td>\n",
       "      <td>0.063888</td>\n",
       "      <td>-0.095436</td>\n",
       "      <td>...</td>\n",
       "      <td>0.122712</td>\n",
       "      <td>-0.160421</td>\n",
       "      <td>-0.018995</td>\n",
       "      <td>0.147593</td>\n",
       "      <td>0.104227</td>\n",
       "      <td>-0.153385</td>\n",
       "      <td>-0.050348</td>\n",
       "      <td>-0.122694</td>\n",
       "      <td>0.036206</td>\n",
       "      <td>0.151612</td>\n",
       "    </tr>\n",
       "    <tr>\n",
       "      <th>vanilla</th>\n",
       "      <td>0.058904</td>\n",
       "      <td>0.053096</td>\n",
       "      <td>-0.010872</td>\n",
       "      <td>0.170765</td>\n",
       "      <td>-0.162353</td>\n",
       "      <td>-0.065994</td>\n",
       "      <td>0.102679</td>\n",
       "      <td>-0.123632</td>\n",
       "      <td>0.149799</td>\n",
       "      <td>-0.119132</td>\n",
       "      <td>...</td>\n",
       "      <td>0.152463</td>\n",
       "      <td>-0.089431</td>\n",
       "      <td>-0.098349</td>\n",
       "      <td>0.062090</td>\n",
       "      <td>-0.105383</td>\n",
       "      <td>-0.058866</td>\n",
       "      <td>-0.135224</td>\n",
       "      <td>-0.152978</td>\n",
       "      <td>0.104301</td>\n",
       "      <td>-0.098725</td>\n",
       "    </tr>\n",
       "  </tbody>\n",
       "</table>\n",
       "<p>10 rows × 100 columns</p>\n",
       "</div>"
      ],
      "text/plain": [
       "               0         1         2         3         4         5         6   \\\n",
       "and      0.015978  0.143934  0.051357  0.111904 -0.042628  0.020229 -0.103939   \n",
       "maple    0.101115 -0.131336 -0.005772  0.145359 -0.058738 -0.022463 -0.154244   \n",
       "bourbon -0.113796  0.156293 -0.069174 -0.050653  0.135524  0.060072  0.143107   \n",
       "a       -0.149148 -0.023431 -0.022112 -0.032581 -0.110569 -0.046971  0.053731   \n",
       "the     -0.174988  0.047710 -0.156304 -0.113079  0.159340  0.157813  0.127550   \n",
       "black   -0.021093  0.055768 -0.148692 -0.154771 -0.156615  0.060657 -0.017819   \n",
       "head    -0.016547 -0.150902 -0.093186 -0.062576  0.112673  0.159875 -0.133373   \n",
       "be      -0.008067  0.030580  0.080896  0.139443 -0.103838 -0.064827  0.014595   \n",
       "with     0.068713 -0.060563 -0.016556  0.008306  0.132369 -0.028424  0.065621   \n",
       "vanilla  0.058904  0.053096 -0.010872  0.170765 -0.162353 -0.065994  0.102679   \n",
       "\n",
       "               7         8         9     ...           90        91        92  \\\n",
       "and     -0.142692 -0.056379  0.048958    ...    -0.135671 -0.085880  0.007949   \n",
       "maple   -0.142868  0.030071 -0.150530    ...     0.018010  0.122778  0.147942   \n",
       "bourbon  0.117282 -0.154576  0.143835    ...    -0.114083 -0.058499 -0.085687   \n",
       "a       -0.158839 -0.020142  0.154723    ...    -0.160613  0.005670  0.102368   \n",
       "the     -0.096776  0.078790  0.064579    ...     0.130374  0.080642 -0.132150   \n",
       "black   -0.116940  0.031634 -0.048496    ...    -0.100506  0.057299 -0.134649   \n",
       "head    -0.022541 -0.008731  0.106453    ...    -0.047213  0.067650 -0.147223   \n",
       "be       0.160229 -0.168094  0.136249    ...     0.134558 -0.053758  0.099559   \n",
       "with     0.153159  0.063888 -0.095436    ...     0.122712 -0.160421 -0.018995   \n",
       "vanilla -0.123632  0.149799 -0.119132    ...     0.152463 -0.089431 -0.098349   \n",
       "\n",
       "               93        94        95        96        97        98        99  \n",
       "and      0.081297 -0.049908 -0.056891 -0.123246  0.028500 -0.018073  0.150282  \n",
       "maple    0.132878  0.065912 -0.145626 -0.024953  0.075296  0.121749  0.049563  \n",
       "bourbon  0.129504  0.141659  0.018839  0.032291 -0.014277  0.019698  0.024540  \n",
       "a       -0.035192  0.142139 -0.167558  0.169501 -0.122180 -0.114765  0.165801  \n",
       "the     -0.101746  0.100331 -0.032110  0.129698  0.143644  0.029276  0.158507  \n",
       "black   -0.091304 -0.079897  0.126747 -0.013513 -0.079478 -0.157572 -0.158867  \n",
       "head     0.143612 -0.061054  0.012119  0.119257  0.034336 -0.139670 -0.003154  \n",
       "be      -0.032466 -0.148966  0.118189 -0.072547 -0.029050  0.066646  0.168291  \n",
       "with     0.147593  0.104227 -0.153385 -0.050348 -0.122694  0.036206  0.151612  \n",
       "vanilla  0.062090 -0.105383 -0.058866 -0.135224 -0.152978  0.104301 -0.098725  \n",
       "\n",
       "[10 rows x 100 columns]"
      ]
     },
     "execution_count": 83,
     "metadata": {},
     "output_type": "execute_result"
    }
   ],
   "source": [
    "\n",
    "# build a list of the terms, integer indices,\n",
    "# and term counts from the food2vec model vocabulary\n",
    "ordered_vocab = [(term, voc.index, voc.count)\n",
    "                 for term, voc in beer2vec.wv.vocab.items()]\n",
    "\n",
    "# sort by the term counts, so the most common terms appear first\n",
    "ordered_vocab = sorted(ordered_vocab, key=lambda tup: -1*tup[-1])\n",
    "\n",
    "# # unzip the terms, integer indices, and counts into separate lists\n",
    "ordered_terms, term_indices, term_counts = zip(*ordered_vocab)\n",
    "\n",
    "# # create a DataFrame with the food2vec vectors as data,\n",
    "# # and the terms as row labels\n",
    "word_vectors = pd.DataFrame(beer2vec.wv.syn0norm[term_indices, :],\n",
    "                            index=ordered_terms)\n",
    "\n",
    "word_vectors.head(10)\n"
   ]
  }
 ],
 "metadata": {
  "kernelspec": {
   "display_name": "Python 3",
   "language": "python",
   "name": "python3"
  },
  "language_info": {
   "codemirror_mode": {
    "name": "ipython",
    "version": 3
   },
   "file_extension": ".py",
   "mimetype": "text/x-python",
   "name": "python",
   "nbconvert_exporter": "python",
   "pygments_lexer": "ipython3",
   "version": "3.6.3"
  }
 },
 "nbformat": 4,
 "nbformat_minor": 2
}
