{
 "cells": [
  {
   "cell_type": "markdown",
   "metadata": {},
   "source": [
    "# Pivo Recommender"
   ]
  },
  {
   "cell_type": "markdown",
   "metadata": {},
   "source": [
    "Looking for a new way to compare and recommend beer.  \n",
    "\n",
    "This notebook scrapes beer reviews from [BeerAdvocate](https://www.beeradvocate.com/) then performs natural language processing on these reviews.  Once a profile of a beer has been created, a similar, semi-similar, or completely different beer can be recommended."
   ]
  },
  {
   "cell_type": "code",
   "execution_count": 1,
   "metadata": {},
   "outputs": [
    {
     "data": {
      "text/plain": [
       "'/Users/johnzupan/mystuff/pivo_rec'"
      ]
     },
     "execution_count": 1,
     "metadata": {},
     "output_type": "execute_result"
    }
   ],
   "source": []
  },
  {
   "cell_type": "code",
   "execution_count": null,
   "metadata": {
    "collapsed": true
   },
   "outputs": [],
   "source": [
    "%cd beerAdvocateScraper\n",
    "%scrapy crawl reviewScraper"
   ]
  },
  {
   "cell_type": "code",
   "execution_count": 1,
   "metadata": {
    "collapsed": true
   },
   "outputs": [],
   "source": [
    "import itertools as it\n",
    "import os\n",
    "import pandas as pd\n",
    "import spacy"
   ]
  },
  {
   "cell_type": "code",
   "execution_count": 2,
   "metadata": {
    "collapsed": true
   },
   "outputs": [],
   "source": [
    "nlp = spacy.load('en')"
   ]
  },
  {
   "cell_type": "markdown",
   "metadata": {},
   "source": [
    "## Phrase Modeling"
   ]
  },
  {
   "cell_type": "markdown",
   "metadata": {},
   "source": [
    "Phrase modeling is an approach to learning combinations of tokens that together represent meaning multi-word concepts.  These phrase models are developed by looping over the words in the corpus and finding words that appear together more than they should by random chance.  The formula used to determine if whether two tokens $A$ and $B$ constitute a phrase is:\n",
    "\n",
    "$$\n",
    "\\frac {count(A B) - count_{min}}\n",
    "{count(A) * count(B)}\n",
    "*N > threshold\n",
    "$$\n",
    "\n",
    "where:\n",
    "* $count(A)$ is the number of times $A$ appears in the corpus\n",
    "* $count(B)$ is the number of times $B$ appears in the corpus\n",
    "* $count(AB)$ is the number of times $AB$ appear in the corpus in that order\n",
    "* $N$ is the total size of the corpus vocabulary\n",
    "* $count_{min}$ is a user-defined parameter to ensure that the phrase appears a minimum number of times\n",
    "* $threshold$ is a user-defined paramter to control how strong the relationship must be before the two tokens are considered a single concept\n",
    "\n",
    "Once we have trained the phrase model we can apply it to the reviews in our corpus.  It will consider the multiworded tokens to be single phrases.\n",
    "\n",
    "The gensim library will help us with phrase modeling, specifically the Phrases class."
   ]
  },
  {
   "cell_type": "code",
   "execution_count": 3,
   "metadata": {
    "collapsed": true
   },
   "outputs": [],
   "source": [
    "from gensim.models import Phrases\n",
    "from gensim.models.phrases import Phraser\n",
    "from gensim.models.word2vec import LineSentence"
   ]
  },
  {
   "cell_type": "code",
   "execution_count": 3,
   "metadata": {
    "collapsed": true
   },
   "outputs": [],
   "source": [
    "%mv beerAdvocateScraper/beerAdvocateScraper/BeerAdvocateReviews.csv ./intermediate/"
   ]
  },
  {
   "cell_type": "code",
   "execution_count": null,
   "metadata": {
    "collapsed": true
   },
   "outputs": [],
   "source": []
  },
  {
   "cell_type": "code",
   "execution_count": 4,
   "metadata": {
    "collapsed": true
   },
   "outputs": [],
   "source": [
    "import re\n",
    "pattern = re.compile('^[\\d,\"]+')\n",
    "\n",
    "def punct_space(token):\n",
    "    \"\"\"\n",
    "    helper function to eliminate tokens\n",
    "    that are pure punctuation or whitespace\n",
    "    \"\"\"\n",
    "    \n",
    "    return token.is_punct or token.is_space\n",
    "\n",
    "def line_review(filename):\n",
    "    \"\"\"\n",
    "    generator function to read in reviews from the file\n",
    "    and un-escape the original line breaks in the text\n",
    "    \"\"\"\n",
    "    count = 0\n",
    "    with open(filename, encoding='utf_8') as f:\n",
    "        for review in f:\n",
    "            try:\n",
    "                yield re.split(pattern, review)[1].replace('\\\\n', '\\n')\n",
    "            except: pass\n",
    "            if count % 1000 == 0:\n",
    "                print(f'on review {count}')\n",
    "            count += 1\n",
    "            \n",
    "def lemmatized_sentence_corpus(filename):\n",
    "    \"\"\"\n",
    "    generator function to use spaCy to parse reviews,\n",
    "    lemmatize the text, and yield sentences\n",
    "    \"\"\"\n",
    "    \n",
    "    for parsed_review in nlp.pipe(line_review(filename),\n",
    "                                  batch_size=1000, n_threads=4):\n",
    "        \n",
    "        for sent in parsed_review.sents:\n",
    "            yield u' '.join([token.lemma_ for token in sent\n",
    "                             if not punct_space(token)])"
   ]
  },
  {
   "cell_type": "code",
   "execution_count": 130,
   "metadata": {
    "collapsed": true
   },
   "outputs": [],
   "source": [
    "intermediate_directory = os.path.join('.', 'intermediate')\n",
    "# review_txt_filepath = os.path.join(intermediate_directory,'BeerAdvocateReviews.csv')\n",
    "review_txt_filepath = os.path.join(intermediate_directory,'slimReviews.csv')\n",
    "ngram_all = os.path.join(intermediate_directory, 'ngram_all')\n",
    "unigram_sentences_filepath = os.path.join(ngram_all,\n",
    "                                          'unigram_sentences_all.txt')"
   ]
  },
  {
   "cell_type": "markdown",
   "metadata": {},
   "source": [
    "We will use `lemmatized_sentence_corpus` generator to loop over the original review text, segmenting the reviews into individual sentences and normalizing the text.  We will write this data back out to a new file (`unigram_sentence_all`), with one normalized sentence per line.  We will use this data for learning our phrase models."
   ]
  },
  {
   "cell_type": "code",
   "execution_count": 131,
   "metadata": {},
   "outputs": [
    {
     "name": "stdout",
     "output_type": "stream",
     "text": [
      "on review 0\n",
      "black and thick\n",
      "tan head\n",
      "nose be perfect with huge maple syrup and coffee\n",
      "bourbon and vanilla\n",
      "good breakfast ever\n",
      "taste maple vanilla bourbon and oak\n",
      "everything -PRON- want in a beer\n",
      "not overly roasted\n",
      "just perfect\n",
      "full bodied\n",
      "good carbonation\n",
      "end with maple syrup\n",
      "amazing\n",
      "that be all\n",
      "can not believe -PRON- live up to the hype\n",
      "oz\n",
      "bottle pour into a snifter\n",
      "no bottle number\n",
      "appearance inky black\n",
      "stain the glass again\n",
      "big and dark head than mornin delight and assassin\n",
      "great surface wisps\n",
      "smell bourbon\n",
      "maple\n",
      "vanilla\n",
      "dark chocolate\n",
      "everything -PRON- would want in a stout\n",
      "the bourbon do take over though\n",
      "taste bourbon be sharp\n",
      "coffee come out here\n",
      "dark chocolate\n",
      "maple come out in the back\n",
      "sweetness linger\n",
      "bourbon flavor linger also\n",
      "mouthfeel very thick\n",
      "boozy\n",
      "sweet with medium carbonation\n",
      "overall tough to argue which be good but bourbon always win\n",
      "serve alongside mornin delight and assassin\n",
      "the beer be near black with a filmy beige head\n",
      "all hype and bias aside this aroma be silly good\n",
      "oak roast coffee vanilla\n",
      "world class from the first sip\n",
      "the definition of grace and balance\n",
      "silky smooth on the palate\n",
      "absolutely amazing\n",
      "review from note from 1/1/14a- bottle of 300 whatev that mean\n",
      "pour into -PRON- topple goliath snifter -PRON- be black as a moonless starless night\n",
      "-PRON- be thick and viscous with a medium sized brown head that slowly recede to a tan collar that leave some lace\n",
      "s-\n",
      "the aroma be nearly identical to the base beer but with bourbon and oak as well\n",
      "ton of burn sugar black strap molass coffee and bitter baker 's chocolate\n",
      "licorice vanilla sweet buttery bourbon rich dark chocolate and some burn alcohol\n",
      "smell incredible!t- wham\n",
      "-PRON- just get smack in the face with awesome\n",
      "the flavor deliver above and beyond the aroma and the base beer\n",
      "-PRON- have all the sweetness from the base but -PRON- be temper and mellow by the bourbon and oak\n",
      "the chocolate burn sugar molass coffee and vanilla all come together in a complex melange of flavor\n",
      "while flavor wise -PRON- may slightly prefer double barrel damon this be perfect in -PRON- be own way!m-\n",
      "the mouth feel be spot on\n",
      "thick viscous mouth coating yet with ample carbonation\n",
      "o-\n",
      "what can -PRON- say\n",
      "topple goliath have deliver one of if not the good ba stout in the world\n",
      "just incredible all around\n",
      "many thank to patrick for share this at -PRON- birthday tasting\n",
      "a like black coffee very slight head leave minimal leg on the side of the glasss maple syrup maple syrup and more maple syrup lot of bourbon barrel slight bourbon st slight coffee and chocolate\n",
      "do -PRON- mention maple syrup?t\n",
      "maple syrup coffee chocolate not as much bourbon taste but slightly hot bourbon st taste like a candy maple chocolate candy dip in a mocha lot of coffee aftertaste that linger on the tongue along with a slight bourbon st amazingm sweet without be cloy\n",
      "well carbedo\n",
      "if -PRON- be a perfect world everyone would have multiple of this and drink one now and age one\n",
      "on one hand all the flavor be there and well balanced\n",
      "however six month would smooth out that slight hotness and temper the maple syrup\n",
      "small nit one of the good beer -PRON- have have\n",
      "dark body black with brown highlight\n",
      "viscous glass stain alcohol leg\n",
      "extremely short lived head\n",
      "marshmallow vanilla smell\n",
      "maple become apparent after a sip\n",
      "maple dominate\n",
      "roasty\n",
      "barrel presence and coffee be there\n",
      "but like -PRON- say maple\n",
      "would put this at about 13.5%abv if -PRON- have to guess\n",
      "nice and thick mouthfeel\n",
      "low perfect carbonation point\n",
      "after have both this and mornin delight -PRON- will say that i like -PRON- close to equally\n",
      "the maple aspect of this guy be a little overbearing cbs wish -PRON- have that presence though\n",
      "thank 4daloveofstout for the most hype value whatev beer -PRON- have have to this point\n",
      "-PRON- be not one to get on hype train about beer\n",
      "buuuutt\n",
      "this beer live up to -PRON- hype\n",
      "thick dark molass type consisitency pour with little head\n",
      "smell of coffee and maple syrup\n",
      "taste like a coffee brownie\n",
      "and about as thick as one\n",
      "incredible beer\n",
      "2014 super balance\n",
      "pours out black as night\n",
      "coffee lot of maple syrup bitter dark chocolate roasted malt and sweetness\n",
      "get some boozy heat and bitterness on the back end\n",
      "coat the mouth\n",
      "no doubt this be world class but -PRON- feel like -PRON- have have this before\n",
      "the beer pour out extremely dark black like motor oil\n",
      "the aroma shoot out of the bottle even a couple foot away as one pour -PRON- out\n",
      "there be big chocolate roasted coffee huge caramel and molass sweetness and whiskey\n",
      "the aroma be very well integrate of complexity\n",
      "the flavor follow with huge chunky milk chocolate surround by a medium roast earthy coffee and medium minus note of whiskey\n",
      "the beer transition onto a big dark caramel sweetness with mocha coffee a hint of berry fruit on the finish\n",
      "the mouthfeel be thick and luscious\n",
      "just a beautifully craft barrel aged brew\n",
      "nothing really jump out aggressive with a harmony of whiskey medium minus barrel note coffee chocolate and caramel sweetness\n",
      "share at dld15\n",
      "silver wax\n",
      "serve in a snifter\n",
      "appear dark brown bodied one finger bold brown head good retention no lace\n",
      "-PRON- look just like mornin delight do\n",
      "smell of sticky maple syrup a fair bit of coffee with a bit of oxidation milk chocolate a bit of bourbon\n",
      "-PRON- do not smell a whole lot different than mornin delight but that be not a bad thing\n",
      "however on the palate the bourbon come through a bit more cast an oaky presence in the background very mild bourbon flavour heat\n",
      "the maple syrup still dominate as do the coffee which -PRON- will never complain about\n",
      "some milk chocolate and roast malt back -PRON- up\n",
      "as with the base beer -PRON- be a very two note beer that the bourbon do not necessarily add much to\n",
      "mouthfeel be excellent full bodied sticky yet smooth easy to drink\n",
      "overall this be a very good beer -PRON- be not necessarily worth what -PRON- take to get economic aside -PRON- be an excellent stout that nicely balance two extreme flavour even if -PRON- be not particularly complex\n",
      "no other brewer have be able to make a beer like this with the exception of tree house so there have to be some point award for that re review 2017 release silver wax bottle 849\n",
      "serve in a kbbs glass properglassware\n",
      "thank dan\n",
      "pour a dark black body one finger mocha head good retention not much lace\n",
      "smell be whiskey maple syrup and espresso milk chocolate oak roast\n",
      "the whiskey be pretty nice in this beer actually with a rich oak and vanillin contribution\n",
      "slight heat which be also noticeable on the palate which also introduce plenty of maple coffee and chocolate in the mouth\n",
      "a touch of vanillin oak and smoke\n",
      "mouthfeel be full bodied slightly syrupy and sticky good carbonation nice finish\n",
      "-PRON- still propose that morning wood from funky buddha be almost just as good for 5 of the asking price -PRON- take to get a bottle of this but hey -PRON- do what -PRON- get to do\n",
      "rb12 oz gold wax provide by syndicate in a homerun tasting\n",
      "darrel be good peep and should be give the utmost trader elbow room imo.pour impossibly thick dark brown black viscous brew\n",
      "the the head be dark brown and die back quick but the sugar hold on leave nice lace\n",
      "thick nose\n",
      "sweet and never over do ton of character\n",
      "maple with big coffee and dark toast\n",
      "flavor be again just amazingly full from front to back the dark malt move silky into the bourbon and dark cherry\n",
      "soooo thick and full\n",
      "very tasty but not worth the hype\n",
      "not even close\n",
      "darrel deserve a nice slow golf clap for acquire this one\n",
      "clap clap clap\n",
      "thank -PRON- friend.4.25/4.25/4./4.5/4.25\n",
      "pour into a duvil like tulip glass by topple goliath staff.review from note take 6/1.appearance black bodied beer with dark brown head\n",
      "-PRON- look exactly like morning delight\n",
      "smell smells exactly like morning delight but have a splash sweet and mellow of bourbon\n",
      "the coffee and maple syrup be more prominent in the nose and do infact overpower the bourbon\n",
      "taste\n",
      "taste just like -PRON- smell\n",
      "-PRON- morning delight with a mellow splash of bourbon\n",
      "the mellow bourbon meld perfectly big maple syrup and bold roasty coffee\n",
      "clark just nail this beer\n",
      "before -PRON- drink this beer -PRON- be concern that the barrel note would cover up all the thing that make morning delight -PRON- favorite topple goliath beer but -PRON- honestly the mornin delight be still the focus of this beer and the subtle barrel note compliment -PRON- perfectly\n",
      "mouthfeel medium bodied beer with moderate carbonation\n",
      "creamy silky and very smooth\n",
      "this beer just coat -PRON- mouth with rich flavor\n",
      "not even a hint of booze just like morning delight\n",
      "carbonation be spot on perfect\n",
      "overall -PRON- another topple goliath masterpiece\n",
      "-PRON- would say that -PRON- a tie -PRON- really to close for -PRON- to call\n",
      "-PRON- just can not decide which -PRON- like more\n",
      "morning delight or kentucky brunch honestly -PRON- feel -PRON- be equal\n",
      "world class beer\n",
      "no question\n",
      "this be a case where a non barrel aged beer be just as good as the same beer with a barrel treatment\n",
      "-PRON- do not see that happen to often in craft beer\n",
      "clark and company at topple goliath be really make magic happen in decorah ia\n",
      "ok time to drown this puppy\n",
      "pick up at the release where there be numerous minnesota beer geek in attendance this be the lone single bottle rest in the fridge\n",
      "now rest in -PRON- glass\n",
      "well half in -PRON- glass half in -PRON- wife 's glass\n",
      "12 oz\n",
      "bottle with silver wax\n",
      "the pour be dark night carbonation close to the non existent side\n",
      "the nose wow\n",
      "like the good pancake house in the world with grade a maple syrup make in house a cold press coffee place beside the kitchen\n",
      "then the waitress set a glass of bourbon next to the syrup\n",
      "seriously\n",
      "magnificent\n",
      "kentucky brunch be one of those beer that can not possibly live up to the hype right\n",
      "wrong\n",
      "more maple syrup taste than any beer -PRON- have ever come into contact with\n",
      "-PRON- like small batch artisanal maple syrup almost as much as -PRON- like beer\n",
      "and -PRON- swear -PRON- can taste the waffle\n",
      "big bourbon wallop be cut by just the right amount of coffee not enough to tip this into an annoying coffee bomb but enough to get a taste\n",
      "mild chocolate vanilla dry wood in the middle\n",
      "the end be pure bliss\n",
      "thick thick thick but ridiculously drinkable\n",
      "-PRON- be think of steal -PRON- wife 's half make a run for -PRON-\n",
      "-PRON- be fast than -PRON- be\n",
      "-PRON- would never catch -PRON- before -PRON- finish -PRON-\n",
      "holy bloody hell\n",
      "-PRON- wish -PRON- would have bring 36 mule to the release because -PRON- would have drunk every single bottle in a span of about 20 day\n",
      "this be a beautiful beer -PRON- hope -PRON- turn into an annual release\n",
      "no screw that a weekly release\n",
      "this beer be perfect\n",
      "-PRON- fourth perfect score in 1500 review\n",
      "wow\n",
      "reach for -PRON- wife 's glass\n",
      "pour from a 12 ounce bottle into a snifter\n",
      "this be the 2014 gold wax version\n",
      "appearance pour black with a finger of coffee tan head that slowly fade to nothing\n",
      "4.5)smell burn coffee maple syrup toffee vanilla dark chocolate a hint of roasted malt\n",
      "5)taste toffee toast malt coffee maple syrup and pancake vanilla rich fudgy milk chocolate\n",
      "5)mouth feel full bodied with a low to medium carbonation\n",
      "thick and creamy\n",
      "5)overall\n",
      "this be simply a fantastic stout\n",
      "the coffee maple vanilla and chocolate flavor meld together wonderfully for a tremendous ba stout the good -PRON- have have\n",
      "5\n",
      "release12 oz bottle pour into a tg tulipa- pour the thick stout -PRON- have ever see -PRON- look like liquid motor oil and have a thin creamy dark brown head that eventually reduce to a ring around the glasss- the aroma be so potent and can be smell from three foot away\n",
      "pure liquid fudge brownie melted caramel nutty fudge mocha dark chocolate vanilla whipping cream toast dark bread black strap molass dark fruit\n",
      "the barrel be noticeable provide undertone of oak bourbon vanilla and a hint of coconut incrediblet- this taste like a liquid nutty fudge brownie\n",
      "open with ton of dark chocolate brownie batter melt caramel black strap molass and mocha\n",
      "mid palate bring out the barrel character add undertone of woody oak and just enough bourbon to pop through\n",
      "the finish be an onslaught of more brownie batter bourbon fudge oak and linger for five minute after finish m- thick and viscous body with moderate carbonation lead to the thick mouthfeel -PRON- have experience in a beer -PRON- be creamy velvety and silky at the same time\n",
      "the alcohol be hide well and provide just a hint of warmth at the finisho-\n",
      "-PRON- be a skeptic when -PRON- come to hype but this one live up to -PRON-\n",
      "unlike any beer -PRON- have ever have the thick pour thick appearance and most intensely flavor stout -PRON- have have\n",
      "pour be jet black with a tight mocha head\n",
      "nose be strong coffee clean and roasted note of maple and vanilla with a well balanced bourbon and wood\n",
      "taste be a little sweet very big with lot of roasted coffee well integrate bourbon and vanilla with some slightly char wood malt berry sweetness in the finish\n",
      "roast linger full bodied creamy and moderate carbonation\n",
      "well balanced lot of coffee with a fair bit of bourbon and malt sweetness can get a hint sweet\n",
      "black with tan head\n",
      "smell like overly sweet maple syrup and cloying molass\n",
      "taste even more sweet than -PRON- smell\n",
      "pure aunt jemima\n",
      "cloy\n",
      "hard to drink\n",
      "too thick\n",
      "do not see the hype\n",
      "suck\n",
      "stunning\n",
      "no 12 oz beer be worth what this cost to obtain but this be as close as -PRON- get\n",
      "nose be superb\n",
      "smells of pure maple\n",
      "the empty bottle still smell day later\n",
      "mouth feel be spot on as with all tg stout\n",
      "taste -PRON- be just delicious\n",
      "other beer be more complex cbs for example but this be just delicious\n",
      "booze be well mask\n",
      "easily in -PRON- top 4 beer\n",
      "be very happy to see the three bottle stout set arrive at -PRON- door courtesy of cparle\n",
      "cheer\n",
      "-PRON- drink morning delight assassin and kbbs in that order\n",
      "from a bottle into a sniftervintage 2013silver waxbottle x of 300whisky barrel age with coffeeappearance\n",
      "same as morning delight\n",
      "pour out black and thick yield a smell medium look creamy dark mocha colored head with great retention\n",
      "jet black body with no carbonation evident\n",
      "head slowly fade to a swirly wisp and bubbly ring\n",
      "a faint wisp and ring remain leave some fall dot of lace down the glass\n",
      "thick black body and a great head and just a touch more lace would give -PRON- a perfect score\n",
      "smell\n",
      "basically like morning delight with some whisky barrel age\n",
      "maple caramel butterscotch coffee milk chocolate and vanilla cream with some whisky and oak pull -PRON- all together\n",
      "really decadent\n",
      "bold and infinitely complex with lot of aroma all over the place\n",
      "morning delight be already a perfect score so too bad this one do not go to 11\n",
      "taste\n",
      "outstanding\n",
      "lot of maple syrup caramel whisky and oak up front with more sweet butterscotch maple and barrel flavor at the swallow\n",
      "definitely maple and coffee with a big linger finish of bitter coffee and dark chocolate coconut sweet vanilla whisky and oak coat the palate\n",
      "very flavorful complex and absolutely delicious\n",
      "wonderful sweet flavor with just enough bitterness and whisky barrel to provide the perfect balancing touch\n",
      "just great\n",
      "palate\n",
      "medium body and medium level of carbonation\n",
      "a touch light than morning delight but still full enough for the style\n",
      "very creamy smooth on the palate go down smooth and finish slightly sticky\n",
      "a bit of heat linger as well\n",
      "good feel\n",
      "overall though -PRON- do not claim to be this could very well be barrel aged morning delight\n",
      "absolutely fantastic\n",
      "this have everything -PRON- love about md and add a touch of whisky barrel age on top of -PRON-\n",
      "one of the rare rare occasion when a beer of this magnitude surpass -PRON- billing\n",
      "this be the good barrel age imperial stout out there at this point and -PRON- can not imagine be able to surpass this either\n",
      "would love to drink some of the second batch that be apparently wait patiently at the brewery\n",
      "thank again cparl\n",
      "world class\n",
      "thank to -PRON- friend doyle for find this in the raleigh area22 oz bottle pour in a snifterpour a golden orange with one finger of head with decent retention\n",
      "nose be slightly malty but primarily floral hop with a little pine\n",
      "alcohol ester be evident when the beer warm taste be floral and piney up front\n",
      "fruity with hint of grapefruit or pineapple in the finish\n",
      "all hop characteristic be equal and well balanced\n",
      "there be an intense bitterness in the finish but -PRON- be welcome here\n",
      "a good deal of carbonation create a lightness in this beer\n",
      "this be a great ipa worth have\n",
      "more than once\n",
      "this be pour into a nonic pint\n",
      "the appearance be a hazy burn orange to slightly bronze brown color\n",
      "there ’ a nice look big white foamy two finger head that dissipate to a rocky level for a sustainable moment but eventually dissipate to a fine lace stick and slide at the same time\n",
      "the smell have a nice sticky sweet grapefruit light lemon and pine run over some light caramel malt\n",
      "the taste be sweet and bitter with a fairly decent sweet piney to lemon bitterness over -PRON- taste bud\n",
      "on the palate this one sit about a medium on the body with a fairly decent sessionability about -PRON-\n",
      "-PRON- would say this be fairly sessionable\n",
      "the carbonation be good for the style and for -PRON-\n",
      "there ’ a nice bitterness run over -PRON- tongue in a proper aipa sort of way\n",
      "overall wow this be a great aipa that -PRON- could bang again\n",
      "-PRON- come across in every good aipa sort of way and have a good sessionability about -PRON- that could definitely go with -PRON- ’ respected food\n",
      "on the hand pump at al 's\n",
      "this be a fuggle dry hop version\n",
      "serve in a nonic -PRON- appear a clear light golden color with a finger of creamy white foam\n",
      "the head slowly fade from a finger 's strength leave a patchy coat atop the brew and patchy lace cling to the glass\n",
      "the aroma come out of this glass be absolutely mouth watering\n",
      "-PRON- be a bouquet of citrus flower and herb\n",
      "-PRON- be notable how the fuggle really make this aroma noticeably more aromatic in an earthy and herbal sort of way with a grassy touch that be quite different from the normal version of sculpin\n",
      "the taste be quite grassy herbal earthy and somewhat minty\n",
      "amazing how different this one off of sculpin be from the norm -PRON- wonder just how much fuggle -PRON- take to transform this\n",
      "-PRON- keep go back to this brew and smell -PRON- twice before take a sip\n",
      "-PRON- do not know what that mean\n",
      "but -PRON- really like -PRON-\n",
      "despite all the hop character there be still a sweetness with a floral aspect to be find in the taste\n",
      "what little grain character come through be note with a toasty quality before the onset of the herbal bitterness that last inside the mouth with serious cling power\n",
      "this be a fantastic one off of one of -PRON- favorite ipa 's\n",
      "-PRON- be medium to almost light bodied with an acceptably low level of carbonation\n",
      "very easy drinking with the alcohol almost completely suppress\n",
      "about the only gripe -PRON- have with this brew be that -PRON- be at time a little watery but that do not stop -PRON- from empty this glass at an alarming rate\n",
      "very well do\n",
      "look like a hazy yellow beer with a foamy white head on top\n",
      "the smell be a little on the funky side not really all that hoppy\n",
      "the taste be really nice quite juicy and not overly bitter at all\n",
      "the feel be very smooth\n",
      "overall -PRON- be a very nice brew\n",
      "big thank to rudzud for pick this up can 1/10/17 so a bit of age unfortunately\n",
      "so -PRON- will take -PRON- with a grain of salt\n",
      "decent creamy mild fizzy head fade at a med pace some sticky lace very hazy grapefruit blond color\n",
      "nose explode ton of orange juice and fresh grapefruit some rind and pith but lot of fresh citrus a little musty tropical note with hint of mango a touch of malt underneath\n",
      "taste bring some sweet malt a little toasty malt and creamy toasty oats perhaps a hint of booze warmth then hop not as bright as the nose but pretty strong lot of orange juice citrus grapefruit a little rind mango a bit of candy orange marmalade and sweetness\n",
      "finish be dry a touch more booze warmth and candy orange marmalade little pith rind and mango skin\n",
      "mouth be m bod a touch creamy decent but light carb and a hint of warm booze\n",
      "overall still pretty good 5 month old a lot bright than -PRON- expect so -PRON- will have to try to get -PRON- fresh and re review and see if -PRON- come out even more or if -PRON- be too rind bitter boozy etc\n",
      "oz\n",
      "can\n",
      "hazy bright orange\n",
      "smells of citrus mango sweet doughy malt\n",
      "taste of orange tangerine mango and some pithy grapefruit\n",
      "have just a bit of garlic to -PRON-\n",
      "moderate sweet pale malt\n",
      "not that bitter but enough to surprise -PRON-\n",
      "medium body\n",
      "for something that be suppose to showcase citra -PRON- be pretty dynamic\n",
      "-PRON- expect something just juicy and sweet\n",
      "thank go out to colby600 for this brew.16 oz\n",
      "cancanned\n",
      "on 11/14/17poured into a tree house glass a very nice cloudy pale yellow orangy color very nice carbonation with a very nice thick creamy two finger plus white head which also leave some very nice creamy sticky lace behind\n",
      "the nose be hoppy malty very nice citrus complex orange tangerine peach grapefruit pineapple with some pretty nice diesel like\n",
      "the taste be very nice hoppy malty very nice citrus complex orange tangerine peach pineapple grapefruit pretty nice diesel like\n",
      "medium body abv hide very well with a very nice little dry bitter finish\n",
      "overall this be a very tasty brew\n",
      "addictive\n",
      "orange julius\n",
      "also a different take as to other 's\n",
      "-PRON- have have\n",
      "thank bill\n",
      "pick up some of this at the brewery on release\n",
      "pour into -PRON- duvel tulip\n",
      "a poured a very nice hazy golden hue with a nice creamy two finger white head that fade very very slowly to leave very sticky lacing and a very thick blanket\n",
      "s aromas of very nice citrus orange tangerine grapefruit\n",
      "nice lemon quality as well\n",
      "very light malt\n",
      "really showcas the quality citra hop use\n",
      "t taste be similar to the nose\n",
      "the malt backbone be nice offer some bready sweetness\n",
      "hop be solid good orange peel and tangerine light citrus peel bitterness\n",
      "maybe a little bit of lemon\n",
      "the alcohol be a bit noticeable in the finish\n",
      "m mouthfeel be lightly carbonate creamy\n",
      "would not mind a hair more carbonation\n",
      "o overall this be a very nicely do dipa\n",
      "to date this be -PRON- favourite rendition of bright\n",
      "the citra be show off nicely especially in the aroma\n",
      "well do\n",
      "serve type\n",
      "can\n",
      "pour hazy light yellow in color with 3/4 inch head\n",
      "taste be pineapple tangerine and sweet orange juice\n",
      "medium bodied and carbonation slightly sweet and juicy\n",
      "this be sooooooooooo much good than regular bright\n",
      "not really a fan of the regular version\n",
      "this one still maintain the taste of the base beer but have a twinge of pineapple that make -PRON- go down way easy\n",
      "glad\n",
      "-PRON- be able to get several can of this\n",
      "still prefer -PRON- core four but this be well worth a try\n",
      "the body on this be a shimmering mostly clear burn gold with a large foamy off white head leave fuzzy garter lace\n",
      "the second half of the can bring the haze and ton of -PRON- almost become fully opaque this be not -PRON- experience with other bright version\n",
      "the nose be pure citrus\n",
      "derp!--and plenty of -PRON- from orange to lime lemon and grapefruit with fresh green young pine a hint of bubblegum cream and cracker\n",
      "-PRON- smell fairly similarly to julius actually\n",
      "on the tongue be load of tangy oily orange zest with hint of zesty chew gum grapefruit zest a little juniper and a tiny bitter bite in the finish\n",
      "after the second pour and as -PRON- come to room temp -PRON- become more bitter and chewy but still shockingly quaffable\n",
      "this taste and smell like a slightly light julius and as such be totally crushable deliciously smooth round but crisp and barely lean dry\n",
      "thank to whomever trade this -PRON- way in the line the other day very much appreciate the tick\n",
      "classic look but the addition of citra really make a somewhat meh beer from tree house into a really nice tasting beer\n",
      "definitely an improvement on the original\n",
      "burst w citra\n",
      "holy crap this stuff be good\n",
      "so easy to drink\n",
      "so yummy and delicious\n",
      "\n",
      "sample a cold 16 oz can poured into a snifter\n",
      "the beer pour a hazy orange color with frothy bleached white head of 3 cm foam up even with a fairly gentle pour\n",
      "the aroma be very fruity and have mango and some peach hit\n",
      "-PRON- also get a bit of biscuity yeast but this be fruity hop dominant\n",
      "the first sip reveal an average body with creamy silky mouthfeel with gentle roll carbonation\n",
      "flavors be similar to what nose advertise with peach and mango up front with a bit of biscuit and grainy malt\n",
      "the finish do let in just a bit of bitter rindy hop bite\n",
      "-PRON- have zero sensation of the alcohol on this one make -PRON- a dangerous treat of a beer\n",
      "-PRON- enjoy this brew and find -PRON- very drinkable and would recommend pick up this beer when -PRON- available at the brewery\n",
      "pour from a 16 oz can into a teku glass\n",
      "this be the good look beer -PRON- have ever see\n",
      "-PRON- be like look at boob for the first time\n",
      "the pour be a hazy golden orange with 2 finger of fluffy white head\n",
      "the retention be absurd\n",
      "no matter how much -PRON- yell at the head to go down -PRON- just will not\n",
      "-PRON- settle into a creamy film that float atop the beer leave some cobwebs of lace along the way\n",
      "the aroma bring note of candy orange lemondrop and grapefruit as well as some grass and pine\n",
      "there be a nice buscuity malt backbone\n",
      "not quite as pungent as other tree house ipa 's but still very pleasant\n",
      "the taste come exactly as advertise\n",
      "citrus out the butt and some soft note of mango\n",
      "finish with a bite of bitterness\n",
      "the feel be medium light bodied with low carbonation\n",
      "this be the fluffy soft feel -PRON- have ever have\n",
      "-PRON- be like charmin toilet paper for -PRON- tongue\n",
      "could use slightly more body but otherwise perfect\n",
      "overall this be definitely the good of the bright series\n",
      "-PRON- be different than the typical th hoppy beer but still retain plenty of the signature note that make -PRON- beer so good\n",
      "this be not on the menu tonight but in -PRON- drunken stupor -PRON- manage to drop -PRON- on the floor close the kitchen door push -PRON- outside where -PRON- roll across the deck through a gap roughly the size of a rolling can and down a flight of stair to the laundry room where -PRON- settle in a dark corner\n",
      "as -PRON- approach a faint pssssssssing sound could be hear and upon reach down to retrieve -PRON- fall comrade -PRON- be greet by dank spicy citrus juice right in the eye from three foot away\n",
      "alas -PRON- good friend have spring quite the aggressive leak\n",
      "-PRON- be the tiny of hole and -PRON- spend a good five minute pace the house with -PRON- thumb press hard on that pinhole try to figure out what to do until -PRON- hand cramp up\n",
      "and -PRON- relieve some pressure in the sink\n",
      "pop the top a few bubble but nothing too crazy\n",
      "let -PRON- see how -PRON- taste\n",
      "-PRON- will go easy on the mouthfeel section\n",
      "l love this label\n",
      "bright label always blow -PRON- mind and this one be burn -PRON- eye almost as much as the beer -PRON-\n",
      "love the way the beer -PRON- look\n",
      "hardly lose any carbonation as this shit be foam up hard\n",
      "glowing resonate yellowy orange\n",
      "match the label\n",
      "s get to say as this be spray into -PRON- eye -PRON- could not help but notice the luxurious smell\n",
      "a bright lemony candy like sweetness back by a robust sourdough stuff to the brim with orange marmalade and dank stickiness\n",
      "-PRON- be not even mad that -PRON- accidentally spray -PRON- all over a week 's worth of freshly clean dish\n",
      "t orange candy\n",
      "sugary and sweet with just the right amount of dank\n",
      "rindy grapefruit and some hide melon in the background silently pull the string\n",
      "the orange be overwhelming in this variant\n",
      "boatload of those little jam packet -PRON- get at shady diner\n",
      "orange jelly and the sweet of ruby red grapefruit\n",
      "f -PRON- be cautious here but -PRON- think the feel be undamaged\n",
      "feel similar to og bright clean but creamy due to the high abv and general dankness of this brew\n",
      "compact and flow with the right amount of resistance through the mouth and between the tooth\n",
      "a real treat\n",
      "o quite possibly the good bright variant yet\n",
      "nelson be solid but other brewery do that beer better cough beer'd\n",
      "simcoe amarillo be fresh and piney and bitter but drift a little too far away from what bright be all about\n",
      "og still may be the good but -PRON- love the overboard orange explosion this beer beat -PRON- over the head with so citra get -PRON- vote\n",
      "medium pale gold body with that new england haze\n",
      "bright lol white head leave lotsa lace down the glass\n",
      "unsurprisingly present a bouquet of citrus fruit and -PRON- flower on the nose follow by a crisp sharp and tangy citrus splash across the tongue\n",
      "juicy and zesty the fleshy sugar hit up front in moderation and subside to allow the pithiness to dry out the initial wave of juice\n",
      "medium light weight and amply carbonate smooth but tingly\n",
      "fresh as fuck with a 10/18/17 can date\n",
      "can on 10/5/17 consume on 12/2/17 so not super fresh but still\n",
      "glad to have a can of this\n",
      "a\n",
      "poured from the can into a piraat tulip snifter type glass\n",
      "body be hazy yellow golden with a small whitish head on top\n",
      "s\n",
      "juicy tropical fruit and citrus grapefruit and clementine orange\n",
      "t\n",
      "bright be a good word to describe this beer\n",
      "the hop profile feel light and bright if that make any sense juicy grapefruit tropical fruit and sweetness of candy orange peel\n",
      "modest grain in the bill too a flavor profile that be often miss in these ne style juice bomb\n",
      "m\n",
      "nice feel to this modest fine carbonation keep -PRON- from be too slick\n",
      "call -PRON- medium to full bodied\n",
      "o excellent stuff\n",
      "a shout out to -PRON- coworker 's husband for share this one now that -PRON- wife be unable to drink with -PRON-\n",
      "top bright variant to date\n",
      "typical hazy tree house style but the nose on this one explode with grapefruit orange and tropical sweetness compliment by a smooth oily mouth feel\n",
      "must try\n",
      "oz\n",
      "can dated 07/25/17pours cloudy hazy gold with a dense creamy white foam head\n",
      "smell like peach ripe mango orange creamsicle strawberry pie papaya grapefruit pineapple guava passionfruit lemon peel lime bready caramelize crackery malt with dank resinous floral earthy herbal grassy pine\n",
      "taste like a tropical citrusy fruit explosion\n",
      "big mango peach orange creamsicle strawberry papaya grapefruit pineapple guava passionfruit lemon peel lime bready caramelize crackery malt with dank resinous bitter floral earthy herbal grassy pine\n",
      "feel medium full bodied creamy and smooth with moderate carbonation\n",
      "overall a really nice citra hop dipa\n"
     ]
    }
   ],
   "source": [
    "with open(unigram_sentences_filepath, 'w', encoding='utf_8') as f:\n",
    "    for sentence in lemmatized_sentence_corpus(review_txt_filepath):\n",
    "        print(sentence)\n",
    "        f.write(sentence + '\\n')"
   ]
  },
  {
   "cell_type": "code",
   "execution_count": 51,
   "metadata": {},
   "outputs": [],
   "source": []
  },
  {
   "cell_type": "markdown",
   "metadata": {},
   "source": [
    "Our data in the `unigram_sentences_all` file is now organized as a large text file with one sentence per line.  This format allows us to use gensim's LineSentence class, a convenient iterator for working with gensim's other components.  It *streams* the documents/sentences from disk, so you never have to hold the entire corpus in RAM at once.  This allows you to scale the modeling to a very large corpora."
   ]
  },
  {
   "cell_type": "code",
   "execution_count": 132,
   "metadata": {
    "collapsed": true
   },
   "outputs": [],
   "source": [
    "unigram_sentences = LineSentence(unigram_sentences_filepath)"
   ]
  },
  {
   "cell_type": "code",
   "execution_count": 133,
   "metadata": {},
   "outputs": [
    {
     "name": "stdout",
     "output_type": "stream",
     "text": [
      "taste maple vanilla bourbon and oak\n",
      " \n",
      "everything -PRON- want in a beer\n",
      " \n"
     ]
    }
   ],
   "source": [
    "for unigram_sentence in it.islice(unigram_sentences, 5,7):\n",
    "    print(u' '.join(unigram_sentence))\n",
    "    print(u' ')"
   ]
  },
  {
   "cell_type": "code",
   "execution_count": 134,
   "metadata": {
    "collapsed": true
   },
   "outputs": [],
   "source": [
    "bigram_model_file = os.path.join(ngram_all, 'bigram_model')"
   ]
  },
  {
   "cell_type": "code",
   "execution_count": 135,
   "metadata": {
    "collapsed": true
   },
   "outputs": [],
   "source": [
    "if 1==1:\n",
    "    phrases = Phrases(unigram_sentences)\n",
    "    bigram_model = Phraser(phrases)\n",
    "    bigram_model.save(bigram_model_file)\n",
    "    \n",
    "bigram_model = Phrases.load(bigram_model_file)"
   ]
  },
  {
   "cell_type": "code",
   "execution_count": 136,
   "metadata": {
    "collapsed": true
   },
   "outputs": [],
   "source": [
    "bigram_sentences_filepath = os.path.join(ngram_all,'bigram_sentences_all.txt')"
   ]
  },
  {
   "cell_type": "code",
   "execution_count": 137,
   "metadata": {
    "collapsed": true
   },
   "outputs": [],
   "source": [
    "with open(bigram_sentences_filepath, 'w', encoding='utf_8') as f:\n",
    "\n",
    "    for unigram_sentence in unigram_sentences:\n",
    "\n",
    "        bigram_sentence = u' '.join(bigram_model[unigram_sentence])\n",
    "\n",
    "        f.write(bigram_sentence + '\\n')"
   ]
  },
  {
   "cell_type": "code",
   "execution_count": 138,
   "metadata": {
    "collapsed": true
   },
   "outputs": [],
   "source": [
    "bigram_sentences = LineSentence(bigram_sentences_filepath)"
   ]
  },
  {
   "cell_type": "code",
   "execution_count": 139,
   "metadata": {},
   "outputs": [
    {
     "name": "stdout",
     "output_type": "stream",
     "text": [
      "taste maple vanilla bourbon and oak\n",
      "\n",
      "everything -PRON- want in a beer\n",
      "\n"
     ]
    }
   ],
   "source": [
    "for bigram_sentence in it.islice(bigram_sentences, 5, 7):\n",
    "    print(u' '.join(bigram_sentence))\n",
    "    print(u'')"
   ]
  },
  {
   "cell_type": "code",
   "execution_count": 140,
   "metadata": {
    "collapsed": true
   },
   "outputs": [],
   "source": [
    "trigram_model_filepath = os.path.join(ngram_all, 'trigram_model')"
   ]
  },
  {
   "cell_type": "code",
   "execution_count": 141,
   "metadata": {},
   "outputs": [],
   "source": [
    "if 1 == 1:\n",
    "\n",
    "    phrases_trigram = Phrases(bigram_sentences)\n",
    "    trigram_model = Phraser(phrases_trigram)\n",
    "    trigram_model.save(trigram_model_filepath)\n",
    "    \n",
    "# load the finished model from disk\n",
    "trigram_model = Phrases.load(trigram_model_filepath)"
   ]
  },
  {
   "cell_type": "code",
   "execution_count": null,
   "metadata": {
    "collapsed": true
   },
   "outputs": [],
   "source": []
  },
  {
   "cell_type": "code",
   "execution_count": 142,
   "metadata": {
    "collapsed": true
   },
   "outputs": [],
   "source": [
    "if 1==1:\n",
    "    phrases = Phrases(unigram_sentences)\n",
    "    bigram_model = Phraser(phrases)\n",
    "    bigram_model.save(bigram_model_file)\n",
    "    \n",
    "bigram_model = Phrases.load(bigram_model_file)"
   ]
  },
  {
   "cell_type": "code",
   "execution_count": 143,
   "metadata": {
    "collapsed": true
   },
   "outputs": [],
   "source": [
    "trigram_sentences_filepath = os.path.join(ngram_all, 'trigram_sentences_all.txt')"
   ]
  },
  {
   "cell_type": "code",
   "execution_count": 144,
   "metadata": {},
   "outputs": [],
   "source": [
    "with open(trigram_sentences_filepath, 'w', encoding='utf_8') as f:\n",
    "\n",
    "    for bigram_sentence in bigram_sentences:\n",
    "\n",
    "        trigram_sentence = u' '.join(trigram_model[bigram_sentence])\n",
    "\n",
    "        f.write(trigram_sentence + '\\n')"
   ]
  },
  {
   "cell_type": "code",
   "execution_count": 145,
   "metadata": {},
   "outputs": [],
   "source": [
    "trigram_sentences = LineSentence(trigram_sentences_filepath)"
   ]
  },
  {
   "cell_type": "code",
   "execution_count": 146,
   "metadata": {},
   "outputs": [
    {
     "name": "stdout",
     "output_type": "stream",
     "text": [
      "bourbon and vanilla\n",
      "\n",
      "good breakfast ever\n",
      "\n"
     ]
    }
   ],
   "source": [
    "for trigram_sentence in it.islice(trigram_sentences, 3, 5):\n",
    "    print(u' '.join(trigram_sentence))\n",
    "    print(u'')"
   ]
  },
  {
   "cell_type": "code",
   "execution_count": 147,
   "metadata": {
    "collapsed": true
   },
   "outputs": [],
   "source": [
    "trigram_reviews_filepath = os.path.join(intermediate_directory,\n",
    "                                        'trigram_transformed_reviews_all.txt')"
   ]
  },
  {
   "cell_type": "code",
   "execution_count": 148,
   "metadata": {
    "collapsed": true
   },
   "outputs": [],
   "source": [
    "from spacy.lang.en.stop_words import STOP_WORDS"
   ]
  },
  {
   "cell_type": "code",
   "execution_count": 149,
   "metadata": {},
   "outputs": [
    {
     "name": "stdout",
     "output_type": "stream",
     "text": [
      "on review 0\n"
     ]
    }
   ],
   "source": [
    "\n",
    "with open(trigram_reviews_filepath, 'w', encoding='utf_8') as f:\n",
    "\n",
    "    for parsed_review in nlp.pipe(line_review(review_txt_filepath),\n",
    "                                  batch_size=10000, n_threads=4):\n",
    "\n",
    "        # lemmatize the text, removing punctuation and whitespace\n",
    "        unigram_review = [token.lemma_ for token in parsed_review\n",
    "                          if not punct_space(token)]\n",
    "\n",
    "        # apply the first-order and second-order phrase models\n",
    "        bigram_review = bigram_model[unigram_review]\n",
    "        trigram_review = trigram_model[bigram_review]\n",
    "\n",
    "        # remove any remaining stopwords\n",
    "        trigram_review = [term for term in trigram_review\n",
    "                          if term not in STOP_WORDS]\n",
    "        \n",
    "        # remove pronouns\n",
    "        trigram_review = [term for term in trigram_review\n",
    "                          if term !='-PRON-']\n",
    "        \n",
    "\n",
    "        # write the transformed review as a line in the new file\n",
    "        trigram_review = u' '.join(trigram_review)\n",
    "        f.write(trigram_review + '\\n')"
   ]
  },
  {
   "cell_type": "code",
   "execution_count": 150,
   "metadata": {},
   "outputs": [
    {
     "name": "stdout",
     "output_type": "stream",
     "text": [
      "Original:\n",
      "\n",
      "on review 0\n",
      "Black and thick. Tan head. Nose is perfect with huge maple syrup and coffee. Bourbon and vanilla. Best breakfast ever. Taste: maple vanilla bourbon and oak. Everything I want in a beer. Not overly roasted. Just perfect.Full bodied. Good carbonation. Ends with maple syrup.Amazing. That's all. Cannot believe it lives up to the hype.\n",
      "\n",
      " oz. bottle poured into a snifter. No bottle number.Appearance - Inky black. Stains the glass again. Bigger and darker head than Mornin' Delight and Assassin. Great surface wisps.Smell - Bourbon. Maple. Vanilla. Dark chocolate. Everything you'd want in a stout. The bourbon does take over, though.Taste - Bourbon is sharp. Coffee comes out here. Dark chocolate. Maple comes out in the back. Sweetness lingers. Bourbon flavor lingers also.Mouthfeel - Very thick. Boozy. Sweet with medium carbonation. Overall - Tough to argue which is better, but bourbon always wins.\"\n",
      "\n",
      "Served alongside Mornin' Delight and Assassin. The beer is near black with a filmy beige head. All hype and bias aside, this aroma is silly good. Oak, roast, coffee, vanilla. World class from the first sip. The definition of grace and balance. Silky smooth on the palate. Absolutely amazing.\"\n",
      "\n",
      "----\n",
      "\n",
      "Transformed:\n",
      "\n",
      "black thick tan head nose perfect huge maple_syrup coffee bourbon vanilla good breakfast taste maple vanilla bourbon oak want beer overly roasted perfect full_bodied good carbonation end maple_syrup amazing believe live hype\n",
      "\n",
      "oz bottle pour_into snifter bottle number appearance inky black stain glass big dark head mornin_delight assassin great surface wisps smell bourbon maple vanilla dark_chocolate want stout bourbon taste bourbon sharp coffee come dark_chocolate maple come sweetness linger bourbon flavor linger mouthfeel thick boozy sweet medium carbonation overall tough argue good bourbon win\n",
      "\n",
      "serve alongside mornin_delight assassin beer near black filmy beige head hype bias aside aroma silly good oak roast coffee vanilla world class sip definition grace balance silky smooth palate absolutely amazing\n",
      "\n"
     ]
    },
    {
     "name": "stderr",
     "output_type": "stream",
     "text": [
      "Exception ignored in: <generator object line_review at 0x113ac0c50>\n",
      "RuntimeError: generator ignored GeneratorExit\n"
     ]
    }
   ],
   "source": [
    "print(u'Original:' + u'\\n')\n",
    "\n",
    "for review in it.islice(line_review(review_txt_filepath), 0, 3):\n",
    "    print(review)\n",
    "\n",
    "print(u'----' + u'\\n')\n",
    "print(u'Transformed:' + u'\\n')\n",
    "\n",
    "with open(trigram_reviews_filepath, encoding='utf_8') as f:\n",
    "    for review in it.islice(f, 0, 3):\n",
    "        print(review)"
   ]
  },
  {
   "cell_type": "code",
   "execution_count": 28,
   "metadata": {},
   "outputs": [],
   "source": [
    "def get_beerID(filename):\n",
    "    \"\"\"\n",
    "    generator function to read in reviews from the file\n",
    "    and un-escape the original line breaks in the text\n",
    "    \"\"\"\n",
    "    with open(review_txt_filepath, encoding='utf_8') as f:\n",
    "        for review in f:\n",
    "            try:\n",
    "                yield re.split('(^[\\d\"]+)', review)[1].replace('\\\\n', '\\n')\n",
    "            except: pass"
   ]
  },
  {
   "cell_type": "code",
   "execution_count": 62,
   "metadata": {},
   "outputs": [],
   "source": [
    "from collections import Counter"
   ]
  },
  {
   "cell_type": "code",
   "execution_count": 151,
   "metadata": {},
   "outputs": [
    {
     "name": "stdout",
     "output_type": "stream",
     "text": [
      "{'78820': Counter({'bourbon': 7, 'vanilla': 4, 'good': 4, 'black': 3, 'head': 3, 'coffee': 3, 'maple': 3, 'thick': 2, 'perfect': 2, 'maple_syrup': 2, 'taste': 2, 'oak': 2, 'want': 2, 'beer': 2, 'carbonation': 2, 'amazing': 2, 'hype': 2, 'bottle': 2, 'mornin_delight': 2, 'assassin': 2, 'dark_chocolate': 2, 'come': 2, 'linger': 2, 'tan': 1, 'nose': 1, 'huge': 1, 'breakfast': 1, 'overly': 1, 'roasted': 1, 'full_bodied': 1, 'end': 1, 'believe': 1, 'live': 1, 'oz': 1, 'pour_into': 1, 'snifter': 1, 'number': 1, 'appearance': 1, 'inky': 1, 'stain': 1, 'glass': 1, 'big': 1, 'dark': 1, 'great': 1, 'surface': 1, 'wisps': 1, 'smell': 1, 'stout': 1, 'sharp': 1, 'sweetness': 1, 'flavor': 1, 'mouthfeel': 1, 'boozy': 1, 'sweet': 1, 'medium': 1, 'overall': 1, 'tough': 1, 'argue': 1, 'win': 1, 'serve': 1, 'alongside': 1, 'near': 1, 'filmy': 1, 'beige': 1, 'bias': 1, 'aside': 1, 'aroma': 1, 'silly': 1, 'roast': 1, 'world': 1, 'class': 1, 'sip': 1, 'definition': 1, 'grace': 1, 'balance': 1, 'silky': 1, 'smooth': 1, 'palate': 1, 'absolutely': 1})}\n"
     ]
    },
    {
     "name": "stderr",
     "output_type": "stream",
     "text": [
      "Exception ignored in: <generator object get_beerID at 0x113579a98>\n",
      "RuntimeError: generator ignored GeneratorExit\n",
      "Exception ignored in: <generator object get_beerID at 0x1135795c8>\n",
      "RuntimeError: generator ignored GeneratorExit\n",
      "Exception ignored in: <generator object get_beerID at 0x113579570>\n",
      "RuntimeError: generator ignored GeneratorExit\n"
     ]
    }
   ],
   "source": [
    "beerDict = {}\n",
    "\n",
    "\n",
    "for i in range(3):\n",
    "    with open(trigram_reviews_filepath, encoding='utf_8') as f:\n",
    "        for review in it.islice(f, i, i+1):\n",
    "            beerID = list(it.islice(get_beerID(review_txt_filepath), i, i+1))[0]\n",
    "            wordDict = Counter()\n",
    "            for word in review.split():\n",
    "                wordDict[word] = wordDict.get(word,0) + 1\n",
    "#             print(wordDict)\n",
    "#             print('---------------')\n",
    "            beerDict[beerID] = beerDict.get(beerID, Counter()) + wordDict\n",
    "print(beerDict)"
   ]
  },
  {
   "cell_type": "code",
   "execution_count": 152,
   "metadata": {},
   "outputs": [
    {
     "name": "stdout",
     "output_type": "stream",
     "text": [
      "{'78820': Counter({'beer': 39, 'coffee': 36, 'bourbon': 32, 'thick': 23, 'like': 22, 'maple_syrup': 21, 'black': 20, 'head': 18, 'dark': 18, 'barrel': 18, 'vanilla': 17, 'good': 17, 'maple': 17, 'taste': 15, 'smell': 15, 'bottle': 14, 'oak': 13, 'carbonation': 13, 'flavor': 12, 'sweet': 12, 'morning_delight': 12, 'perfect': 11, 'pour': 11, 'glass': 10, 'stout': 10, 'medium': 10, 'chocolate': 10, 'hype': 9, 'big': 8, 'dark_chocolate': 8, 'sweetness': 8, 'note': 8, 'brown': 8, 'finish': 8, 'linger': 7, 'mouthfeel': 7, 'aroma': 7, 'world': 7, 'palate': 7, 'molass': 7, 'lot_of': 7, 'mocha': 7, 'malt': 7, 'caramel': 7, 'creamy': 7, 'nose': 6, 'roasted': 6, 'mornin_delight': 6, 'come': 6, 'smooth': 6, 'topple_goliath': 6, 'lace': 6, 'mouth': 6, 'feel': 6, 'slight': 6, 'drink': 6, 'body': 6, 'milk_chocolate': 6, 'do_not': 6, 'whisky': 6, 'full_bodied': 5, 'oz': 5, 'roast': 5, 'viscous': 5, 'complex': 5, 'slightly': 5, 'thank': 5, 'age': 5, 'nice': 5, 'close': 5, 'brownie': 5, 'whiskey': 5, 'hint_of': 5, 'wax': 5, 'bit_of': 5, 'release': 5, 'touch': 5, 'tan': 4, 'live': 4, 'pour_into': 4, 'snifter': 4, 'great': 4, 'overall': 4, 'class': 4, 'silky': 4, 'leave': 4, 'base': 4, 'burn': 4, \"'s\": 4, 'rich': 4, 'mellow': 4, 'point': 4, 'heat': 4, 'look': 4, 'sticky': 4, 'wood': 4, 'provide': 4, 'clap': 4, 'pure': 4, 'fudge': 4, 'huge': 3, 'end': 3, 'appearance': 3, 'assassin': 3, 'serve': 3, 'balance': 3, 'absolutely': 3, 'review': 3, 'night': 3, 'slowly': 3, 'ton': 3, 'sugar': 3, 'strap': 3, 'bitter': 3, 'alcohol': 3, 'spot': 3, 'st': 3, 'balanced': 3, 'presence': 3, 'little': 3, 'coat': 3, 'aged': 3, 'silver': 3, 'bodied': 3, 'finger': 3, 'bold': 3, 'retention': 3, 'add': 3, 'worth': 3, 'house': 3, 'toast': 3, 'this_one': 3, 'moderate': 3, 'half': 3, 'wife': 3, '12': 3, 'score': 3, 'liquid': 3, 'ring': 3, 'delicious': 3, 'want': 2, 'overly': 2, 'amazing': 2, 'stain': 2, 'boozy': 2, 'aside': 2, 'sip': 2, 'whatev': 2, 'deliver': 2, 'temper': 2, 'ba': 2, 'incredible': 2, 'share': 2, 'tasting': 2, 'leg': 2, 'candy': 2, 'cloy': 2, 'small': 2, 'extremely': 2, 'dominate': 2, 'roasty': 2, 'low': 2, 'cbs': 2, 'wish': 2, '2014': 2, 'bitterness': 2, 'motor': 2, 'oil': 2, 'foot': 2, 'away': 2, 'integrate': 2, 'minus': 2, 'berry': 2, 'fruit': 2, 'craft': 2, 'brew': 2, 'fair': 2, 'bad': 2, 'thing': 2, 'mild': 2, 'flavour': 2, 'necessarily': 2, 'excellent': 2, 'able': 2, 'kbbs': 2, 'vanillin': 2, 'noticeable': 2, '5': 2, 'gold': 2, 'darrel': 2, 'character': 2, 'exactly': 2, 'smells': 2, 'splash': 2, 'meld': 2, 'perfectly': 2, 'clark': 2, 'honestly': 2, 'booze': 2, 'kentucky': 2, 'brunch': 2, 'non': 2, 'happen': 2, 'time': 2, 'single': 2, 'rest': 2, 'wow': 2, 'pancake': 2, 'place': 2, 'set': 2, 'right': 2, 'batch': 2, 'bring': 2, 'day': 2, 'fade': 2, 'toffee': 2, 'fantastic': 2, 'tg': 2, 'nutty': 2, 'cream': 2, 'undertone': 2, 'coconut': 2, 'batter': 2, 'jet': 2, 'wisp': 2, 'butterscotch': 2, 'love': 2, 'rare': 2, 'surpass': 2, 'breakfast': 1, 'believe': 1, 'number': 1, 'inky': 1, 'surface': 1, 'wisps': 1, 'sharp': 1, 'tough': 1, 'argue': 1, 'win': 1, 'alongside': 1, 'near': 1, 'filmy': 1, 'beige': 1, 'bias': 1, 'silly': 1, 'definition': 1, 'grace': 1, '1/1/14a-': 1, '300': 1, 'mean': 1, 'moonless': 1, 'starless': 1, 'sized': 1, 'recede': 1, 'collar': 1, 's-': 1, 'nearly': 1, 'identical': 1, 'baker': 1, 'licorice': 1, 'buttery': 1, 'incredible!t-': 1, 'wham': 1, 'smack': 1, 'face': 1, 'awesome': 1, 'melange': 1, 'wise': 1, 'prefer': 1, 'double': 1, 'damon': 1, 'way!m-': 1, 'coating': 1, 'ample': 1, 'o-': 1, 'patrick': 1, 'birthday': 1, 'minimal': 1, 'glasss': 1, 'mention': 1, 'syrup?t': 1, 'hot': 1, 'dip': 1, 'aftertaste': 1, 'tongue': 1, 'amazingm': 1, 'carbedo': 1, 'multiple': 1, 'hand': 1, 'month': 1, 'hotness': 1, 'nit': 1, 'highlight': 1, 'short': 1, 'lived': 1, 'marshmallow': 1, 'apparent': 1, '13.5%abv': 1, 'guess': 1, 'equally': 1, 'aspect': 1, 'guy': 1, 'overbearing': 1, '4daloveofstout': 1, 'value': 1, 'train': 1, 'buuuutt': 1, 'type': 1, 'consisitency': 1, 'super': 1, 'pours': 1, 'doubt': 1, 'shoot': 1, 'couple': 1, 'complexity': 1, 'follow': 1, 'chunky': 1, 'surround': 1, 'earthy': 1, 'transition': 1, 'luscious': 1, 'beautifully': 1, 'jump': 1, 'aggressive': 1, 'harmony': 1, 'dld15': 1, 'appear': 1, 'oxidation': 1, 'lot': 1, 'different': 1, 'bit': 1, 'cast': 1, 'oaky': 1, 'background': 1, 'complain': 1, 'easy': 1, 'economic': 1, 'nicely': 1, 'extreme': 1, 'particularly': 1, 'brewer': 1, 'exception': 1, 'tree': 1, 'award': 1, '2017': 1, '849': 1, 'properglassware': 1, 'dan': 1, 'espresso': 1, 'pretty': 1, 'actually': 1, 'contribution': 1, 'introduce': 1, 'plenty': 1, 'smoke': 1, 'syrupy': 1, 'propose': 1, 'morning': 1, 'funky': 1, 'buddha': 1, 'asking': 1, 'price': 1, 'hey': 1, 'rb12': 1, 'syndicate': 1, 'homerun': 1, 'peep': 1, 'utmost': 1, 'trader': 1, 'elbow': 1, 'room': 1, 'imo.pour': 1, 'impossibly': 1, 'die': 1, 'quick': 1, 'hold': 1, 'amazingly': 1, 'cherry': 1, 'soooo': 1, 'tasty': 1, 'deserve': 1, 'slow': 1, 'golf': 1, 'acquire': 1, 'friend.4.25/4.25/4./4.5/4.25': 1, 'duvil': 1, 'tulip': 1, 'staff.review': 1, '6/1.appearance': 1, 'prominent': 1, 'infact': 1, 'overpower': 1, 'nail': 1, 'concern': 1, 'cover': 1, 'favorite': 1, 'focus': 1, 'subtle': 1, 'compliment': 1, 'masterpiece': 1, 'tie': 1, 'decide': 1, 'equal': 1, 'question': 1, 'case': 1, 'treatment': 1, 'company': 1, 'magic': 1, 'decorah': 1, 'ia': 1, 'ok': 1, 'drown': 1, 'puppy': 1, 'pick': 1, 'numerous': 1, 'minnesota': 1, 'geek': 1, 'attendance': 1, 'lone': 1, 'fridge': 1, 'existent': 1, 'grade': 1, 'cold': 1, 'press': 1, 'kitchen': 1, 'waitress': 1, 'syrup': 1, 'seriously': 1, 'magnificent': 1, 'possibly': 1, 'wrong': 1, 'contact': 1, 'artisanal': 1, 'swear': 1, 'waffle': 1, 'wallop': 1, 'cut': 1, 'tip': 1, 'annoying': 1, 'bomb': 1, 'dry': 1, 'middle': 1, 'bliss': 1, 'ridiculously': 1, 'drinkable': 1, 'think': 1, 'steal': 1, 'run': 1, 'fast': 1, 'catch': 1, 'holy': 1, 'bloody': 1, 'hell': 1, '36': 1, 'mule': 1, 'drunk': 1, 'span': 1, '20': 1, 'beautiful': 1, 'hope': 1, 'turn': 1, 'annual': 1, 'screw': 1, 'weekly': 1, 'fourth': 1, '1500': 1, 'reach': 1, 'ounce': 1, 'version': 1, '4.5)smell': 1, '5)taste': 1, 'fudgy': 1, '5)mouth': 1, '5)overall': 1, 'simply': 1, 'wonderfully': 1, 'tremendous': 1, 'release12': 1, 'tulipa-': 1, 'thin': 1, 'eventually': 1, 'reduce': 1, 'glasss-': 1, 'potent': 1, 'melted': 1, 'whipping': 1, 'bread': 1, 'incrediblet-': 1, 'open': 1, 'melt': 1, 'mid': 1, 'woody': 1, 'pop': 1, 'onslaught': 1, 'minute': 1, 'm-': 1, 'lead': 1, 'experience': 1, 'velvety': 1, 'hide': 1, 'warmth': 1, 'finisho-': 1, 'skeptic': 1, 'unlike': 1, 'intensely': 1, 'tight': 1, 'strong': 1, 'clean': 1, 'char': 1, 'hint': 1, 'cloying': 1, 'aunt': 1, 'jemima': 1, 'hard': 1, 'suck': 1, 'stunning': 1, 'cost': 1, 'obtain': 1, 'superb': 1, 'later': 1, 'example': 1, 'mask': 1, 'easily': 1, '4': 1, 'happy': 1, 'arrive': 1, 'door': 1, 'courtesy': 1, 'cparle': 1, 'cheer': 1, 'order': 1, 'sniftervintage': 1, '2013silver': 1, 'waxbottle': 1, 'x': 1, '300whisky': 1, 'coffeeappearance': 1, 'yield': 1, 'colored': 1, 'evident': 1, 'swirly': 1, 'bubbly': 1, 'faint': 1, 'remain': 1, 'fall': 1, 'dot': 1, 'basically': 1, 'pull': 1, 'decadent': 1, 'infinitely': 1, '11': 1, 'outstanding': 1, 'swallow': 1, 'definitely': 1, 'flavorful': 1, 'wonderful': 1, 'balancing': 1, 'level': 1, 'light': 1, 'style': 1, 'claim': 1, 'md': 1, 'occasion': 1, 'magnitude': 1, 'billing': 1, 'imperial': 1, 'imagine': 1, 'second': 1, 'apparently': 1, 'wait': 1, 'patiently': 1, 'brewery': 1, 'cparl': 1}), '29619': Counter({'taste': 5, 'finger': 4, 'hop': 4, 'bitterness': 4, 'good': 4, 'light': 4, 'head': 3, 'decent': 3, 'floral': 3, 'little': 3, 'carbonation': 3, '’': 3, 'nice': 3, 'sweet': 3, 'fairly': 3, 'aipa': 3, 'sort': 3, 'way': 3, 'come': 3, \"'s\": 3, 'fuggle': 3, 'brew': 3, 'glass': 3, 'herbal': 3, 'find': 2, 'golden': 2, 'orange': 2, 'slightly': 2, 'pine': 2, 'alcohol': 2, 'beer': 2, 'piney': 2, 'grapefruit': 2, 'finish': 2, 'great': 2, 'ipa': 2, 'nonic': 2, 'color': 2, 'white': 2, 'dissipate': 2, 'level': 2, 'lace': 2, 'time': 2, 'smell': 2, 'lemon': 2, 'run': 2, 'this_one': 2, 'medium': 2, 'sessionability': 2, 'version': 2, 'patchy': 2, 'cling': 2, 'aroma': 2, 'mouth': 2, 'earthy': 2, 'grassy': 2, 'different': 2, 'sculpin': 2, 'do_not': 2, 'character': 2, 'thank': 1, 'friend': 1, 'doyle': 1, 'raleigh': 1, 'area22': 1, 'oz': 1, 'bottle': 1, 'pour': 1, 'snifterpour': 1, 'retention': 1, 'nose': 1, 'malty': 1, 'primarily': 1, 'ester': 1, 'evident': 1, 'warm': 1, 'fruity': 1, 'hint_of': 1, 'pineapple': 1, 'characteristic': 1, 'equal': 1, 'balanced': 1, 'intense': 1, 'welcome': 1, 'deal': 1, 'create': 1, 'lightness': 1, 'worth': 1, 'pour_into': 1, 'pint': 1, 'appearance': 1, 'hazy': 1, 'burn': 1, 'bronze': 1, 'brown': 1, 'look': 1, 'big': 1, 'foamy': 1, 'rocky': 1, 'sustainable': 1, 'moment': 1, 'eventually': 1, 'fine': 1, 'stick': 1, 'slide': 1, 'sticky': 1, 'caramel': 1, 'malt': 1, 'bitter': 1, 'bud': 1, 'palate': 1, 'sit': 1, 'body': 1, 'sessionable': 1, 'style': 1, 'tongue': 1, 'proper': 1, 'overall': 1, 'wow': 1, 'bang': 1, 'definitely': 1, 'respected': 1, 'food': 1, 'hand': 1, 'pump': 1, 'al': 1, 'dry': 1, 'serve': 1, 'appear': 1, 'clear': 1, 'creamy': 1, 'foam': 1, 'slowly': 1, 'fade': 1, 'strength': 1, 'leave': 1, 'coat': 1, 'atop': 1, 'absolutely': 1, 'watering': 1, 'bouquet': 1, 'citrus': 1, 'flower': 1, 'herb': 1, 'notable': 1, 'noticeably': 1, 'aromatic': 1, 'touch': 1, 'normal': 1, 'somewhat': 1, 'minty': 1, 'amazing': 1, 'norm': 1, 'wonder': 1, 'transform': 1, 'twice': 1, 'sip': 1, 'know': 1, 'mean': 1, 'like': 1, 'despite': 1, 'sweetness': 1, 'aspect': 1, 'grain': 1, 'note': 1, 'toasty': 1, 'quality': 1, 'onset': 1, 'inside': 1, 'power': 1, 'fantastic': 1, 'favorite': 1, 'bodied': 1, 'acceptably': 1, 'low': 1, 'easy': 1, 'drinking': 1, 'completely': 1, 'suppress': 1, 'gripe': 1, 'watery': 1, 'stop': 1, 'alarming': 1, 'rate': 1}), '263364': Counter({'orange': 28, 'grapefruit': 17, 'beer': 16, 'bright': 16, 'citrus': 13, 'creamy': 12, 'good': 12, 'taste': 11, 'very_nice': 11, 'malt': 11, 'hazy': 10, 'little': 10, 'nice': 10, 'mango': 10, 'like': 9, 'bitter': 9, 'feel': 9, 'nose': 8, 'sweet': 8, 'light': 8, 'medium': 8, 'carbonation': 8, 'white_head': 7, 'bit_of': 7, 'fresh': 7, 'hop': 7, 'body': 7, 'citra': 7, 'juicy': 6, 'overall': 6, 'head': 6, 'juice': 6, 'candy': 6, 'finish': 6, 'tangerine': 6, 'peach': 6, 'pineapple': 6, 'pour': 6, 'look': 5, 'smell': 5, 'smooth': 5, 'lace': 5, 'tropical': 5, 'hint_of': 5, 'pretty': 5, 'sweetness': 5, 'oz': 5, 'house': 5, 'leave': 5, 'lemon': 5, 'peel': 5, 'this_one': 5, 'dank': 5, 'yellow': 4, 'hoppy': 4, 'brew': 4, 'thank': 4, 'color': 4, 'rind': 4, 'note': 4, 'dry': 4, 'try': 4, 'tree': 4, 'glass': 4, \"'s\": 4, 'way': 4, 'pine': 4, 'fruit': 4, 'pick': 3, 'sticky': 3, 'touch': 3, 'bring': 3, 'booze': 3, 'marmalade': 3, 'mouth': 3, 'm': 3, 'come': 3, 'pale': 3, 'finger': 3, 'julius': 3, 'brewery': 3, 'poured': 3, 'golden': 3, 's': 3, 't': 3, 'similar': 3, 'bready': 3, 'mouthfeel': 3, 'o': 3, 'date': 3, 'aroma': 3, 'slightly': 3, 'easy': 3, 'gold': 3, 'lime': 3, 'tongue': 3, 'bite': 3, 'stuff': 3, 'foam': 3, 'right': 3, 'eye': 3, 'love': 3, 'label': 3, 'variant': 3, 'foamy': 2, 'big': 2, 'grain': 2, 'decent': 2, 'fade': 2, 'pace': 2, 'explode': 2, 'ton': 2, 'pith': 2, 'lot_of': 2, 'toasty': 2, 'warmth': 2, 'expect': 2, 'moderate': 2, 'cloudy': 2, 'thick': 2, 'malty': 2, 'complex': 2, 'diesel': 2, 'abv': 2, 'hide': 2, 'different': 2, 'bill': 2, 'tulip': 2, 'quality': 2, 'use': 2, 'backbone': 2, 'solid': 2, 'bitterness': 2, 'alcohol': 2, 'carbonate': 2, 'mind': 2, 'nicely': 2, 'dipa': 2, 'type': 2, 'bodied': 2, 'regular': 2, 'version': 2, 'glad': 2, 'worth': 2, 'burn': 2, 'second': 2, 'haze': 2, 'plenty': 2, 'fairly': 2, 'tangy': 2, 'oily': 2, 'zest': 2, 'zesty': 2, 'tiny': 2, 'room': 2, 'crisp': 2, 'definitely': 2, 'drink': 2, '16': 2, 'snifter': 2, 'gentle': 2, 'fruity': 2, 'hit': 2, 'roll': 2, 'advertise': 2, 'let': 2, 'rindy': 2, 'treat': 2, 'fluffy': 2, 'settle': 2, 'soft': 2, 'typical': 2, 'away': 2, 'hard': 2, 'spray': 2, 'clean': 2, 'og': 2, 'explosion': 2, 'profile': 2, 'modest': 2, 'style': 2, 'full_bodied': 2, 'creamsicle': 2, 'strawberry': 2, 'papaya': 2, 'guava': 2, 'passionfruit': 2, 'caramelize': 2, 'crackery': 2, 'resinous': 2, 'floral': 2, 'earthy': 2, 'herbal': 2, 'grassy': 2, 'funky': 1, 'overly': 1, 'rudzud': 1, '1/10/17': 1, 'age': 1, 'unfortunately': 1, 'salt': 1, 'mild': 1, 'fizzy': 1, 'med': 1, 'blond': 1, 'musty': 1, 'underneath': 1, 'oats': 1, 'strong': 1, 'skin': 1, 'bod': 1, 'carb': 1, 'warm': 1, '5': 1, 'month': 1, 'old': 1, 'lot': 1, 'review': 1, 'boozy': 1, 'etc': 1, 'smells': 1, 'doughy': 1, 'pithy': 1, 'garlic': 1, 'surprise': 1, 'suppose': 1, 'showcase': 1, 'dynamic': 1, 'colby600': 1, 'brew.16': 1, 'cancanned': 1, '11/14/17poured': 1, 'orangy': 1, 'plus': 1, 'tasty': 1, 'addictive': 1, 'release': 1, 'pour_into': 1, 'duvel': 1, 'hue': 1, 'slowly': 1, 'lacing': 1, 'blanket': 1, 'aromas': 1, 'showcas': 1, 'offer': 1, 'maybe': 1, 'bit': 1, 'noticeable': 1, 'lightly': 1, 'hair': 1, 'favourite': 1, 'rendition': 1, 'especially': 1, 'serve': 1, '3/4': 1, 'inch': 1, 'sooooooooooo': 1, 'fan': 1, 'maintain': 1, 'base': 1, 'twinge': 1, 'able': 1, 'prefer': 1, 'core': 1, 'shimmering': 1, 'clear': 1, 'large': 1, 'fuzzy': 1, 'garter': 1, 'half': 1, 'fully': 1, 'opaque': 1, 'experience': 1, 'pure': 1, 'derp!--and': 1, 'green': 1, 'young': 1, 'bubblegum': 1, 'cream': 1, 'cracker': 1, 'similarly': 1, 'actually': 1, 'load': 1, 'chew': 1, 'gum': 1, 'juniper': 1, 'temp': 1, 'chewy': 1, 'shockingly': 1, 'quaffable': 1, 'totally': 1, 'crushable': 1, 'deliciously': 1, 'round': 1, 'barely': 1, 'lean': 1, 'whomever': 1, 'trade': 1, 'line': 1, 'day': 1, 'appreciate': 1, 'tick': 1, 'classic': 1, 'addition': 1, 'somewhat': 1, 'meh': 1, 'tasting': 1, 'improvement': 1, 'original': 1, 'burst': 1, 'w': 1, 'holy': 1, 'crap': 1, 'yummy': 1, 'delicious': 1, 'sample': 1, 'cold': 1, 'frothy': 1, 'bleached': 1, '3': 1, 'cm': 1, 'biscuity': 1, 'yeast': 1, 'dominant': 1, 'sip': 1, 'reveal': 1, 'average': 1, 'silky': 1, 'flavors': 1, 'biscuit': 1, 'grainy': 1, 'zero': 1, 'sensation': 1, 'dangerous': 1, 'enjoy': 1, 'find': 1, 'drinkable': 1, 'recommend': 1, 'available': 1, 'teku': 1, 'boob': 1, 'time': 1, '2': 1, 'retention': 1, 'absurd': 1, 'matter': 1, 'yell': 1, 'film': 1, 'float': 1, 'atop': 1, 'cobwebs': 1, 'lemondrop': 1, 'grass': 1, 'buscuity': 1, 'pungent': 1, 'ipa': 1, 'pleasant': 1, 'exactly': 1, 'butt': 1, 'low': 1, 'charmin': 1, 'toilet': 1, 'paper': 1, 'perfect': 1, 'series': 1, 'th': 1, 'retain': 1, 'signature': 1, 'menu': 1, 'tonight': 1, 'drunken': 1, 'stupor': 1, 'manage': 1, 'drop': 1, 'floor': 1, 'close': 1, 'kitchen': 1, 'door': 1, 'push': 1, 'outside': 1, 'deck': 1, 'gap': 1, 'roughly': 1, 'size': 1, 'rolling': 1, 'flight': 1, 'stair': 1, 'laundry': 1, 'dark': 1, 'corner': 1, 'approach': 1, 'faint': 1, 'pssssssssing': 1, 'sound': 1, 'hear': 1, 'reach': 1, 'retrieve': 1, 'fall': 1, 'comrade': 1, 'greet': 1, 'spicy': 1, 'foot': 1, 'alas': 1, 'friend': 1, 'spring': 1, 'aggressive': 1, 'leak': 1, 'hole': 1, 'spend': 1, 'minute': 1, 'thumb': 1, 'press': 1, 'pinhole': 1, 'figure': 1, 'hand': 1, 'cramp': 1, 'relieve': 1, 'pressure': 1, 'sink': 1, 'pop': 1, 'bubble': 1, 'crazy': 1, 'section': 1, 'l': 1, 'blow': 1, 'hardly': 1, 'lose': 1, 'shit': 1, 'glowing': 1, 'resonate': 1, 'yellowy': 1, 'match': 1, 'help': 1, 'notice': 1, 'luxurious': 1, 'lemony': 1, 'robust': 1, 'sourdough': 1, 'brim': 1, 'stickiness': 1, 'mad': 1, 'accidentally': 1, 'week': 1, 'freshly': 1, 'dish': 1, 'sugary': 1, 'melon': 1, 'background': 1, 'silently': 1, 'pull': 1, 'string': 1, 'overwhelming': 1, 'boatload': 1, 'jam': 1, 'packet': 1, 'shady': 1, 'diner': 1, 'jelly': 1, 'ruby': 1, 'red': 1, 'f': 1, 'cautious': 1, 'think': 1, 'undamaged': 1, 'high': 1, 'general': 1, 'dankness': 1, 'compact': 1, 'flow': 1, 'resistance': 1, 'tooth': 1, 'real': 1, 'possibly': 1, 'nelson': 1, 'better': 1, 'cough': 1, \"beer'd\": 1, 'simcoe': 1, 'amarillo': 1, 'piney': 1, 'drift': 1, 'far': 1, 'overboard': 1, 'beat': 1, 'vote': 1, 'new': 1, 'england': 1, 'lol': 1, 'lotsa': 1, 'unsurprisingly': 1, 'present': 1, 'bouquet': 1, 'flower': 1, 'follow': 1, 'sharp': 1, 'splash': 1, 'fleshy': 1, 'sugar': 1, 'moderation': 1, 'subside': 1, 'allow': 1, 'pithiness': 1, 'initial': 1, 'wave': 1, 'weight': 1, 'amply': 1, 'tingly': 1, 'fuck': 1, '10/18/17': 1, '10/5/17': 1, 'consume': 1, '12/2/17': 1, 'super': 1, 'piraat': 1, 'small': 1, 'whitish': 1, 'clementine': 1, 'word': 1, 'describe': 1, 'sense': 1, 'flavor': 1, 'miss': 1, 'ne': 1, 'bomb': 1, 'fine': 1, 'slick': 1, 'excellent': 1, 'shout': 1, 'coworker': 1, 'husband': 1, 'share': 1, 'wife': 1, 'unable': 1, 'compliment': 1, 'dated': 1, '07/25/17pours': 1, 'dense': 1, 'white': 1, 'ripe': 1, 'pie': 1, 'citrusy': 1})}\n"
     ]
    },
    {
     "name": "stderr",
     "output_type": "stream",
     "text": [
      "Exception ignored in: <generator object get_beerID at 0x1135795c8>\n",
      "RuntimeError: generator ignored GeneratorExit\n",
      "Exception ignored in: <generator object get_beerID at 0x113aa7410>\n",
      "RuntimeError: generator ignored GeneratorExit\n",
      "Exception ignored in: <generator object get_beerID at 0x113aa73b8>\n",
      "RuntimeError: generator ignored GeneratorExit\n",
      "Exception ignored in: <generator object get_beerID at 0x113ac0ca8>\n",
      "RuntimeError: generator ignored GeneratorExit\n",
      "Exception ignored in: <generator object get_beerID at 0x113aa7410>\n",
      "RuntimeError: generator ignored GeneratorExit\n",
      "Exception ignored in: <generator object get_beerID at 0x113aa73b8>\n",
      "RuntimeError: generator ignored GeneratorExit\n",
      "Exception ignored in: <generator object get_beerID at 0x113ac0ca8>\n",
      "RuntimeError: generator ignored GeneratorExit\n",
      "Exception ignored in: <generator object get_beerID at 0x113aa7410>\n",
      "RuntimeError: generator ignored GeneratorExit\n",
      "Exception ignored in: <generator object get_beerID at 0x113aa73b8>\n",
      "RuntimeError: generator ignored GeneratorExit\n",
      "Exception ignored in: <generator object get_beerID at 0x113ac0ca8>\n",
      "RuntimeError: generator ignored GeneratorExit\n",
      "Exception ignored in: <generator object get_beerID at 0x113aa7410>\n",
      "RuntimeError: generator ignored GeneratorExit\n",
      "Exception ignored in: <generator object get_beerID at 0x113aa73b8>\n",
      "RuntimeError: generator ignored GeneratorExit\n",
      "Exception ignored in: <generator object get_beerID at 0x113ac0ca8>\n",
      "RuntimeError: generator ignored GeneratorExit\n",
      "Exception ignored in: <generator object get_beerID at 0x113aa7410>\n",
      "RuntimeError: generator ignored GeneratorExit\n",
      "Exception ignored in: <generator object get_beerID at 0x113aa73b8>\n",
      "RuntimeError: generator ignored GeneratorExit\n",
      "Exception ignored in: <generator object get_beerID at 0x113ac0ca8>\n",
      "RuntimeError: generator ignored GeneratorExit\n",
      "Exception ignored in: <generator object get_beerID at 0x113aa7410>\n",
      "RuntimeError: generator ignored GeneratorExit\n",
      "Exception ignored in: <generator object get_beerID at 0x113aa73b8>\n",
      "RuntimeError: generator ignored GeneratorExit\n",
      "Exception ignored in: <generator object get_beerID at 0x113ac0ca8>\n",
      "RuntimeError: generator ignored GeneratorExit\n",
      "Exception ignored in: <generator object get_beerID at 0x113aa7410>\n",
      "RuntimeError: generator ignored GeneratorExit\n",
      "Exception ignored in: <generator object get_beerID at 0x113ac0ca8>\n",
      "RuntimeError: generator ignored GeneratorExit\n",
      "Exception ignored in: <generator object get_beerID at 0x113aa7a40>\n",
      "RuntimeError: generator ignored GeneratorExit\n",
      "Exception ignored in: <generator object get_beerID at 0x113aa7410>\n",
      "RuntimeError: generator ignored GeneratorExit\n",
      "Exception ignored in: <generator object get_beerID at 0x113aa7a40>\n",
      "RuntimeError: generator ignored GeneratorExit\n",
      "Exception ignored in: <generator object get_beerID at 0x10c063e08>\n",
      "RuntimeError: generator ignored GeneratorExit\n",
      "Exception ignored in: <generator object get_beerID at 0x113aa7410>\n",
      "RuntimeError: generator ignored GeneratorExit\n",
      "Exception ignored in: <generator object get_beerID at 0x113aa7a40>\n",
      "RuntimeError: generator ignored GeneratorExit\n",
      "Exception ignored in: <generator object get_beerID at 0x10c063e08>\n",
      "RuntimeError: generator ignored GeneratorExit\n",
      "Exception ignored in: <generator object get_beerID at 0x113aa7410>\n",
      "RuntimeError: generator ignored GeneratorExit\n",
      "Exception ignored in: <generator object get_beerID at 0x113aa7a40>\n",
      "RuntimeError: generator ignored GeneratorExit\n",
      "Exception ignored in: <generator object get_beerID at 0x10c063e08>\n",
      "RuntimeError: generator ignored GeneratorExit\n",
      "Exception ignored in: <generator object get_beerID at 0x113aa7410>\n",
      "RuntimeError: generator ignored GeneratorExit\n",
      "Exception ignored in: <generator object get_beerID at 0x113aa7a40>\n",
      "RuntimeError: generator ignored GeneratorExit\n",
      "Exception ignored in: <generator object get_beerID at 0x10c063e08>\n",
      "RuntimeError: generator ignored GeneratorExit\n",
      "Exception ignored in: <generator object get_beerID at 0x113aa7410>\n",
      "RuntimeError: generator ignored GeneratorExit\n",
      "Exception ignored in: <generator object get_beerID at 0x113aa7a40>\n",
      "RuntimeError: generator ignored GeneratorExit\n",
      "Exception ignored in: <generator object get_beerID at 0x10c063e08>\n",
      "RuntimeError: generator ignored GeneratorExit\n",
      "Exception ignored in: <generator object get_beerID at 0x113aa7410>\n",
      "RuntimeError: generator ignored GeneratorExit\n"
     ]
    }
   ],
   "source": [
    "m = pd.read_csv(review_txt_filepath)\n",
    "\n",
    "beerDict = {}\n",
    "\n",
    "for i in range(m.shape[0]):\n",
    "    with open(trigram_reviews_filepath, encoding='utf_8') as f:\n",
    "        for review in it.islice(f, i, i+1):\n",
    "            beerID = list(it.islice(get_beerID(review_txt_filepath), i, i+1))[0]\n",
    "            wordDict = Counter()\n",
    "            for word in review.split():\n",
    "                wordDict[word] = wordDict.get(word,0) + 1\n",
    "#             print(wordDict)\n",
    "#             print('---------------')\n",
    "            beerDict[beerID] = beerDict.get(beerID, Counter()) + wordDict\n",
    "print(beerDict)"
   ]
  },
  {
   "cell_type": "code",
   "execution_count": 153,
   "metadata": {},
   "outputs": [
    {
     "data": {
      "text/plain": [
       "dict_keys(['78820', '29619', '263364'])"
      ]
     },
     "execution_count": 153,
     "metadata": {},
     "output_type": "execute_result"
    }
   ],
   "source": [
    "beerDict.keys()"
   ]
  },
  {
   "cell_type": "code",
   "execution_count": null,
   "metadata": {},
   "outputs": [],
   "source": []
  },
  {
   "cell_type": "markdown",
   "metadata": {},
   "source": [
    "## Word2Vec"
   ]
  },
  {
   "cell_type": "markdown",
   "metadata": {},
   "source": [
    "The goal of *word vector embedding models*, or *word vector models* for short is to learn dense numerical representations of each term in a corpus vocabulary.  If the model is succesful, the vectors it learns should encode some information about the *meaning* or *concept* the term represents, and the relationship between it and other terms in the vocabulary.  Word vector models are fully unsupervised &mdash; they learn all of these meaning and relationships solely by analyzing the text of the corpus, without any advanced knowledge provided."
   ]
  },
  {
   "cell_type": "code",
   "execution_count": 154,
   "metadata": {
    "collapsed": true
   },
   "outputs": [],
   "source": [
    "from gensim.models import Word2Vec\n",
    "\n",
    "# run with or without stop words removed and word lemmatized\n",
    "trigram_sentences = LineSentence(trigram_reviews_filepath)\n",
    "# trigram_sentences = LineSentence(trigram_sentences_filepath)\n",
    "word2vec_filepath = os.path.join(intermediate_directory, 'word2vec_model_all')"
   ]
  },
  {
   "cell_type": "code",
   "execution_count": 155,
   "metadata": {},
   "outputs": [
    {
     "name": "stderr",
     "output_type": "stream",
     "text": [
      "WARNING:gensim.models.word2vec:under 10 jobs per worker: consider setting a smaller `batch_words' for smoother alpha decay\n",
      "WARNING:gensim.models.word2vec:under 10 jobs per worker: consider setting a smaller `batch_words' for smoother alpha decay\n",
      "WARNING:gensim.models.word2vec:under 10 jobs per worker: consider setting a smaller `batch_words' for smoother alpha decay\n",
      "WARNING:gensim.models.word2vec:under 10 jobs per worker: consider setting a smaller `batch_words' for smoother alpha decay\n",
      "WARNING:gensim.models.word2vec:under 10 jobs per worker: consider setting a smaller `batch_words' for smoother alpha decay\n"
     ]
    },
    {
     "name": "stdout",
     "output_type": "stream",
     "text": [
      "Trained model for 5 epochs.\n"
     ]
    }
   ],
   "source": [
    "if 1==1:\n",
    "    \n",
    "    # initiate the model and perform one epoch of training\n",
    "    beer2vec = Word2Vec(trigram_sentences, size=100, window=5,\n",
    "                       min_count=1, sg=1) #workers=?\n",
    "    beer2vec.save(word2vec_filepath)\n",
    "    \n",
    "    #perform the next n epochs of training\n",
    "    for i in range(1, 5):\n",
    "        beer2vec.train(trigram_sentences, total_examples=beer2vec.corpus_count, epochs=2)\n",
    "        beer2vec.save(word2vec_filepath)\n",
    "        \n",
    "        \n",
    "#load the finished model from disk\n",
    "beer2vec = Word2Vec.load(word2vec_filepath)\n",
    "beer2vec.init_sims()\n",
    "\n",
    "print(f'Trained model for {beer2vec.train_count} epochs.')"
   ]
  },
  {
   "cell_type": "code",
   "execution_count": null,
   "metadata": {
    "collapsed": true
   },
   "outputs": [],
   "source": []
  },
  {
   "cell_type": "code",
   "execution_count": 156,
   "metadata": {},
   "outputs": [
    {
     "data": {
      "text/html": [
       "<div>\n",
       "<style>\n",
       "    .dataframe thead tr:only-child th {\n",
       "        text-align: right;\n",
       "    }\n",
       "\n",
       "    .dataframe thead th {\n",
       "        text-align: left;\n",
       "    }\n",
       "\n",
       "    .dataframe tbody tr th {\n",
       "        vertical-align: top;\n",
       "    }\n",
       "</style>\n",
       "<table border=\"1\" class=\"dataframe\">\n",
       "  <thead>\n",
       "    <tr style=\"text-align: right;\">\n",
       "      <th></th>\n",
       "      <th>0</th>\n",
       "      <th>1</th>\n",
       "      <th>2</th>\n",
       "      <th>3</th>\n",
       "      <th>4</th>\n",
       "      <th>5</th>\n",
       "      <th>6</th>\n",
       "      <th>7</th>\n",
       "      <th>8</th>\n",
       "      <th>9</th>\n",
       "      <th>...</th>\n",
       "      <th>90</th>\n",
       "      <th>91</th>\n",
       "      <th>92</th>\n",
       "      <th>93</th>\n",
       "      <th>94</th>\n",
       "      <th>95</th>\n",
       "      <th>96</th>\n",
       "      <th>97</th>\n",
       "      <th>98</th>\n",
       "      <th>99</th>\n",
       "    </tr>\n",
       "  </thead>\n",
       "  <tbody>\n",
       "    <tr>\n",
       "      <th>beer</th>\n",
       "      <td>-0.125418</td>\n",
       "      <td>-0.158803</td>\n",
       "      <td>-0.109744</td>\n",
       "      <td>-0.088840</td>\n",
       "      <td>-0.050977</td>\n",
       "      <td>-0.001870</td>\n",
       "      <td>0.016279</td>\n",
       "      <td>-0.185949</td>\n",
       "      <td>-0.039158</td>\n",
       "      <td>0.087716</td>\n",
       "      <td>...</td>\n",
       "      <td>-0.078661</td>\n",
       "      <td>0.036378</td>\n",
       "      <td>0.153309</td>\n",
       "      <td>-0.010076</td>\n",
       "      <td>-0.156118</td>\n",
       "      <td>0.132822</td>\n",
       "      <td>-0.133748</td>\n",
       "      <td>0.032135</td>\n",
       "      <td>-0.063877</td>\n",
       "      <td>0.008066</td>\n",
       "    </tr>\n",
       "    <tr>\n",
       "      <th>coffee</th>\n",
       "      <td>-0.120252</td>\n",
       "      <td>-0.158009</td>\n",
       "      <td>-0.110976</td>\n",
       "      <td>-0.076152</td>\n",
       "      <td>-0.024895</td>\n",
       "      <td>-0.018940</td>\n",
       "      <td>0.005613</td>\n",
       "      <td>-0.206732</td>\n",
       "      <td>-0.046788</td>\n",
       "      <td>0.077841</td>\n",
       "      <td>...</td>\n",
       "      <td>-0.099884</td>\n",
       "      <td>0.028322</td>\n",
       "      <td>0.142997</td>\n",
       "      <td>-0.020933</td>\n",
       "      <td>-0.173337</td>\n",
       "      <td>0.139913</td>\n",
       "      <td>-0.146807</td>\n",
       "      <td>0.034235</td>\n",
       "      <td>-0.071801</td>\n",
       "      <td>0.024402</td>\n",
       "    </tr>\n",
       "    <tr>\n",
       "      <th>good</th>\n",
       "      <td>-0.117596</td>\n",
       "      <td>-0.160508</td>\n",
       "      <td>-0.104429</td>\n",
       "      <td>-0.092543</td>\n",
       "      <td>-0.055181</td>\n",
       "      <td>-0.000042</td>\n",
       "      <td>0.009518</td>\n",
       "      <td>-0.190182</td>\n",
       "      <td>-0.038457</td>\n",
       "      <td>0.089727</td>\n",
       "      <td>...</td>\n",
       "      <td>-0.086296</td>\n",
       "      <td>0.037800</td>\n",
       "      <td>0.153077</td>\n",
       "      <td>-0.013839</td>\n",
       "      <td>-0.165245</td>\n",
       "      <td>0.144309</td>\n",
       "      <td>-0.137846</td>\n",
       "      <td>0.033341</td>\n",
       "      <td>-0.065672</td>\n",
       "      <td>0.014435</td>\n",
       "    </tr>\n",
       "    <tr>\n",
       "      <th>bourbon</th>\n",
       "      <td>-0.117719</td>\n",
       "      <td>-0.166992</td>\n",
       "      <td>-0.113476</td>\n",
       "      <td>-0.081326</td>\n",
       "      <td>-0.028596</td>\n",
       "      <td>-0.026475</td>\n",
       "      <td>0.002908</td>\n",
       "      <td>-0.208270</td>\n",
       "      <td>-0.046134</td>\n",
       "      <td>0.072953</td>\n",
       "      <td>...</td>\n",
       "      <td>-0.098826</td>\n",
       "      <td>0.032469</td>\n",
       "      <td>0.139741</td>\n",
       "      <td>-0.026106</td>\n",
       "      <td>-0.176493</td>\n",
       "      <td>0.146143</td>\n",
       "      <td>-0.149110</td>\n",
       "      <td>0.042539</td>\n",
       "      <td>-0.072123</td>\n",
       "      <td>0.026749</td>\n",
       "    </tr>\n",
       "    <tr>\n",
       "      <th>like</th>\n",
       "      <td>-0.122866</td>\n",
       "      <td>-0.158534</td>\n",
       "      <td>-0.103148</td>\n",
       "      <td>-0.096458</td>\n",
       "      <td>-0.050301</td>\n",
       "      <td>-0.007634</td>\n",
       "      <td>0.009195</td>\n",
       "      <td>-0.195771</td>\n",
       "      <td>-0.040439</td>\n",
       "      <td>0.083294</td>\n",
       "      <td>...</td>\n",
       "      <td>-0.088329</td>\n",
       "      <td>0.032533</td>\n",
       "      <td>0.149556</td>\n",
       "      <td>-0.018398</td>\n",
       "      <td>-0.166274</td>\n",
       "      <td>0.142531</td>\n",
       "      <td>-0.141494</td>\n",
       "      <td>0.029365</td>\n",
       "      <td>-0.053144</td>\n",
       "      <td>0.014208</td>\n",
       "    </tr>\n",
       "    <tr>\n",
       "      <th>taste</th>\n",
       "      <td>-0.119117</td>\n",
       "      <td>-0.157880</td>\n",
       "      <td>-0.097596</td>\n",
       "      <td>-0.091254</td>\n",
       "      <td>-0.043978</td>\n",
       "      <td>-0.005375</td>\n",
       "      <td>-0.000733</td>\n",
       "      <td>-0.201222</td>\n",
       "      <td>-0.035124</td>\n",
       "      <td>0.084128</td>\n",
       "      <td>...</td>\n",
       "      <td>-0.090750</td>\n",
       "      <td>0.039437</td>\n",
       "      <td>0.150297</td>\n",
       "      <td>-0.031229</td>\n",
       "      <td>-0.171644</td>\n",
       "      <td>0.141391</td>\n",
       "      <td>-0.140367</td>\n",
       "      <td>0.046041</td>\n",
       "      <td>-0.063106</td>\n",
       "      <td>0.016063</td>\n",
       "    </tr>\n",
       "    <tr>\n",
       "      <th>orange</th>\n",
       "      <td>-0.115265</td>\n",
       "      <td>-0.148698</td>\n",
       "      <td>-0.079513</td>\n",
       "      <td>-0.091739</td>\n",
       "      <td>-0.068124</td>\n",
       "      <td>0.011262</td>\n",
       "      <td>0.004916</td>\n",
       "      <td>-0.211494</td>\n",
       "      <td>-0.028896</td>\n",
       "      <td>0.082787</td>\n",
       "      <td>...</td>\n",
       "      <td>-0.081488</td>\n",
       "      <td>0.029175</td>\n",
       "      <td>0.166646</td>\n",
       "      <td>-0.016828</td>\n",
       "      <td>-0.157962</td>\n",
       "      <td>0.130845</td>\n",
       "      <td>-0.136029</td>\n",
       "      <td>0.048447</td>\n",
       "      <td>-0.060855</td>\n",
       "      <td>0.013049</td>\n",
       "    </tr>\n",
       "    <tr>\n",
       "      <th>head</th>\n",
       "      <td>-0.127512</td>\n",
       "      <td>-0.159969</td>\n",
       "      <td>-0.099372</td>\n",
       "      <td>-0.091060</td>\n",
       "      <td>-0.052993</td>\n",
       "      <td>-0.010643</td>\n",
       "      <td>0.013123</td>\n",
       "      <td>-0.207309</td>\n",
       "      <td>-0.045511</td>\n",
       "      <td>0.071138</td>\n",
       "      <td>...</td>\n",
       "      <td>-0.072158</td>\n",
       "      <td>0.023239</td>\n",
       "      <td>0.141622</td>\n",
       "      <td>-0.010100</td>\n",
       "      <td>-0.151235</td>\n",
       "      <td>0.133201</td>\n",
       "      <td>-0.129466</td>\n",
       "      <td>0.021450</td>\n",
       "      <td>-0.051630</td>\n",
       "      <td>0.009956</td>\n",
       "    </tr>\n",
       "    <tr>\n",
       "      <th>thick</th>\n",
       "      <td>-0.120823</td>\n",
       "      <td>-0.153335</td>\n",
       "      <td>-0.104436</td>\n",
       "      <td>-0.091314</td>\n",
       "      <td>-0.051827</td>\n",
       "      <td>-0.007216</td>\n",
       "      <td>0.013301</td>\n",
       "      <td>-0.194472</td>\n",
       "      <td>-0.045840</td>\n",
       "      <td>0.085248</td>\n",
       "      <td>...</td>\n",
       "      <td>-0.082513</td>\n",
       "      <td>0.024361</td>\n",
       "      <td>0.150181</td>\n",
       "      <td>-0.016103</td>\n",
       "      <td>-0.158109</td>\n",
       "      <td>0.130717</td>\n",
       "      <td>-0.136189</td>\n",
       "      <td>0.031421</td>\n",
       "      <td>-0.067042</td>\n",
       "      <td>0.006278</td>\n",
       "    </tr>\n",
       "    <tr>\n",
       "      <th>carbonation</th>\n",
       "      <td>-0.120230</td>\n",
       "      <td>-0.149243</td>\n",
       "      <td>-0.100329</td>\n",
       "      <td>-0.096964</td>\n",
       "      <td>-0.052994</td>\n",
       "      <td>-0.002225</td>\n",
       "      <td>0.020507</td>\n",
       "      <td>-0.193858</td>\n",
       "      <td>-0.040370</td>\n",
       "      <td>0.088880</td>\n",
       "      <td>...</td>\n",
       "      <td>-0.084265</td>\n",
       "      <td>0.030089</td>\n",
       "      <td>0.152854</td>\n",
       "      <td>-0.016838</td>\n",
       "      <td>-0.165938</td>\n",
       "      <td>0.144155</td>\n",
       "      <td>-0.143085</td>\n",
       "      <td>0.032696</td>\n",
       "      <td>-0.064299</td>\n",
       "      <td>0.006760</td>\n",
       "    </tr>\n",
       "  </tbody>\n",
       "</table>\n",
       "<p>10 rows × 100 columns</p>\n",
       "</div>"
      ],
      "text/plain": [
       "                   0         1         2         3         4         5   \\\n",
       "beer        -0.125418 -0.158803 -0.109744 -0.088840 -0.050977 -0.001870   \n",
       "coffee      -0.120252 -0.158009 -0.110976 -0.076152 -0.024895 -0.018940   \n",
       "good        -0.117596 -0.160508 -0.104429 -0.092543 -0.055181 -0.000042   \n",
       "bourbon     -0.117719 -0.166992 -0.113476 -0.081326 -0.028596 -0.026475   \n",
       "like        -0.122866 -0.158534 -0.103148 -0.096458 -0.050301 -0.007634   \n",
       "taste       -0.119117 -0.157880 -0.097596 -0.091254 -0.043978 -0.005375   \n",
       "orange      -0.115265 -0.148698 -0.079513 -0.091739 -0.068124  0.011262   \n",
       "head        -0.127512 -0.159969 -0.099372 -0.091060 -0.052993 -0.010643   \n",
       "thick       -0.120823 -0.153335 -0.104436 -0.091314 -0.051827 -0.007216   \n",
       "carbonation -0.120230 -0.149243 -0.100329 -0.096964 -0.052994 -0.002225   \n",
       "\n",
       "                   6         7         8         9     ...           90  \\\n",
       "beer         0.016279 -0.185949 -0.039158  0.087716    ...    -0.078661   \n",
       "coffee       0.005613 -0.206732 -0.046788  0.077841    ...    -0.099884   \n",
       "good         0.009518 -0.190182 -0.038457  0.089727    ...    -0.086296   \n",
       "bourbon      0.002908 -0.208270 -0.046134  0.072953    ...    -0.098826   \n",
       "like         0.009195 -0.195771 -0.040439  0.083294    ...    -0.088329   \n",
       "taste       -0.000733 -0.201222 -0.035124  0.084128    ...    -0.090750   \n",
       "orange       0.004916 -0.211494 -0.028896  0.082787    ...    -0.081488   \n",
       "head         0.013123 -0.207309 -0.045511  0.071138    ...    -0.072158   \n",
       "thick        0.013301 -0.194472 -0.045840  0.085248    ...    -0.082513   \n",
       "carbonation  0.020507 -0.193858 -0.040370  0.088880    ...    -0.084265   \n",
       "\n",
       "                   91        92        93        94        95        96  \\\n",
       "beer         0.036378  0.153309 -0.010076 -0.156118  0.132822 -0.133748   \n",
       "coffee       0.028322  0.142997 -0.020933 -0.173337  0.139913 -0.146807   \n",
       "good         0.037800  0.153077 -0.013839 -0.165245  0.144309 -0.137846   \n",
       "bourbon      0.032469  0.139741 -0.026106 -0.176493  0.146143 -0.149110   \n",
       "like         0.032533  0.149556 -0.018398 -0.166274  0.142531 -0.141494   \n",
       "taste        0.039437  0.150297 -0.031229 -0.171644  0.141391 -0.140367   \n",
       "orange       0.029175  0.166646 -0.016828 -0.157962  0.130845 -0.136029   \n",
       "head         0.023239  0.141622 -0.010100 -0.151235  0.133201 -0.129466   \n",
       "thick        0.024361  0.150181 -0.016103 -0.158109  0.130717 -0.136189   \n",
       "carbonation  0.030089  0.152854 -0.016838 -0.165938  0.144155 -0.143085   \n",
       "\n",
       "                   97        98        99  \n",
       "beer         0.032135 -0.063877  0.008066  \n",
       "coffee       0.034235 -0.071801  0.024402  \n",
       "good         0.033341 -0.065672  0.014435  \n",
       "bourbon      0.042539 -0.072123  0.026749  \n",
       "like         0.029365 -0.053144  0.014208  \n",
       "taste        0.046041 -0.063106  0.016063  \n",
       "orange       0.048447 -0.060855  0.013049  \n",
       "head         0.021450 -0.051630  0.009956  \n",
       "thick        0.031421 -0.067042  0.006278  \n",
       "carbonation  0.032696 -0.064299  0.006760  \n",
       "\n",
       "[10 rows x 100 columns]"
      ]
     },
     "execution_count": 156,
     "metadata": {},
     "output_type": "execute_result"
    }
   ],
   "source": [
    "\n",
    "# build a list of the terms, integer indices,\n",
    "# and term counts from the food2vec model vocabulary\n",
    "ordered_vocab = [(term, voc.index, voc.count)\n",
    "                 for term, voc in beer2vec.wv.vocab.items()]\n",
    "\n",
    "# sort by the term counts, so the most common terms appear first\n",
    "ordered_vocab = sorted(ordered_vocab, key=lambda tup: -1*tup[-1])\n",
    "\n",
    "# # unzip the terms, integer indices, and counts into separate lists\n",
    "ordered_terms, term_indices, term_counts = zip(*ordered_vocab)\n",
    "\n",
    "# # create a DataFrame with the food2vec vectors as data,\n",
    "# # and the terms as row labels\n",
    "word_vectors = pd.DataFrame(beer2vec.wv.syn0norm[term_indices, :],\n",
    "                            index=ordered_terms)\n",
    "\n",
    "word_vectors.head(10)\n"
   ]
  },
  {
   "cell_type": "code",
   "execution_count": 87,
   "metadata": {},
   "outputs": [
    {
     "data": {
      "text/plain": [
       "(239, 100)"
      ]
     },
     "execution_count": 87,
     "metadata": {},
     "output_type": "execute_result"
    }
   ],
   "source": [
    "word_vectors.shape"
   ]
  },
  {
   "cell_type": "markdown",
   "metadata": {},
   "source": [
    "# Dimension Reduction Using t-SNE "
   ]
  },
  {
   "cell_type": "markdown",
   "metadata": {},
   "source": [
    "t-Distributed Stochastic Neighbor Embedding, or *t-SNE*, is a dimensionality reduction technique to assist with visualizing high-dimensional datasets.  It attempts to map high-dimensional data onto a low (2 or 3) dimensional  representation such that the relative distance between points are preserved as closely as possible in both high and low dimensional space."
   ]
  },
  {
   "cell_type": "code",
   "execution_count": 157,
   "metadata": {
    "collapsed": true
   },
   "outputs": [],
   "source": [
    "from sklearn.manifold import TSNE"
   ]
  },
  {
   "cell_type": "code",
   "execution_count": 161,
   "metadata": {},
   "outputs": [],
   "source": [
    "# from spacy.lang.en.stop_words import STOP_WORDS\n",
    "\n",
    "tsneInput = word_vectors.drop(STOP_WORDS, errors=u'ignore')\n",
    "tsneInput = tsneInput.head(400)"
   ]
  },
  {
   "cell_type": "code",
   "execution_count": 163,
   "metadata": {},
   "outputs": [
    {
     "data": {
      "text/plain": [
       "(400, 100)"
      ]
     },
     "execution_count": 163,
     "metadata": {},
     "output_type": "execute_result"
    }
   ],
   "source": [
    "tsneInput.shape"
   ]
  },
  {
   "cell_type": "code",
   "execution_count": 164,
   "metadata": {},
   "outputs": [],
   "source": [
    "tsne_filepath = os.path.join(intermediate_directory,\n",
    "                             u'tsne_model')\n",
    "\n",
    "tsne_vectors_filepath = os.path.join(intermediate_directory,\n",
    "                                     u'tsne_vectors.npy')"
   ]
  },
  {
   "cell_type": "code",
   "execution_count": 165,
   "metadata": {},
   "outputs": [],
   "source": [
    "import pickle"
   ]
  },
  {
   "cell_type": "code",
   "execution_count": 166,
   "metadata": {},
   "outputs": [
    {
     "data": {
      "text/plain": [
       "(400, 100)"
      ]
     },
     "execution_count": 166,
     "metadata": {},
     "output_type": "execute_result"
    }
   ],
   "source": [
    "tsneInput.values.shape"
   ]
  },
  {
   "cell_type": "code",
   "execution_count": 167,
   "metadata": {},
   "outputs": [],
   "source": [
    "if 1 == 1:\n",
    "    \n",
    "    tsne = TSNE()\n",
    "    tsne_vectors = tsne.fit_transform(tsneInput.values)\n",
    "    \n",
    "    with open(tsne_filepath, 'wb') as f:\n",
    "        pickle.dump(tsne, f)\n",
    "\n",
    "    pd.np.save(tsne_vectors_filepath, tsne_vectors)\n",
    "    \n",
    "with open(tsne_filepath, 'rb') as f:\n",
    "    tsne = pickle.load(f)\n",
    "    \n",
    "tsne_vectors = pd.np.load(tsne_vectors_filepath)\n",
    "\n",
    "tsne_vectors = pd.DataFrame(tsne_vectors,\n",
    "                            index=pd.Index(tsneInput.index),\n",
    "                            columns=[u'x_coord', u'y_coord'])"
   ]
  },
  {
   "cell_type": "code",
   "execution_count": 168,
   "metadata": {},
   "outputs": [],
   "source": [
    "tsne_vectors[u'word'] = tsne_vectors.index"
   ]
  },
  {
   "cell_type": "code",
   "execution_count": 169,
   "metadata": {},
   "outputs": [
    {
     "data": {
      "text/html": [
       "<div>\n",
       "<style>\n",
       "    .dataframe thead tr:only-child th {\n",
       "        text-align: right;\n",
       "    }\n",
       "\n",
       "    .dataframe thead th {\n",
       "        text-align: left;\n",
       "    }\n",
       "\n",
       "    .dataframe tbody tr th {\n",
       "        vertical-align: top;\n",
       "    }\n",
       "</style>\n",
       "<table border=\"1\" class=\"dataframe\">\n",
       "  <thead>\n",
       "    <tr style=\"text-align: right;\">\n",
       "      <th></th>\n",
       "      <th>x_coord</th>\n",
       "      <th>y_coord</th>\n",
       "      <th>word</th>\n",
       "    </tr>\n",
       "  </thead>\n",
       "  <tbody>\n",
       "    <tr>\n",
       "      <th>beer</th>\n",
       "      <td>-4.141456</td>\n",
       "      <td>7.934711</td>\n",
       "      <td>beer</td>\n",
       "    </tr>\n",
       "    <tr>\n",
       "      <th>coffee</th>\n",
       "      <td>20.921259</td>\n",
       "      <td>-10.803796</td>\n",
       "      <td>coffee</td>\n",
       "    </tr>\n",
       "    <tr>\n",
       "      <th>good</th>\n",
       "      <td>-3.244442</td>\n",
       "      <td>-9.479774</td>\n",
       "      <td>good</td>\n",
       "    </tr>\n",
       "    <tr>\n",
       "      <th>bourbon</th>\n",
       "      <td>21.402313</td>\n",
       "      <td>-11.091810</td>\n",
       "      <td>bourbon</td>\n",
       "    </tr>\n",
       "    <tr>\n",
       "      <th>like</th>\n",
       "      <td>6.317479</td>\n",
       "      <td>-12.092600</td>\n",
       "      <td>like</td>\n",
       "    </tr>\n",
       "  </tbody>\n",
       "</table>\n",
       "</div>"
      ],
      "text/plain": [
       "           x_coord    y_coord     word\n",
       "beer     -4.141456   7.934711     beer\n",
       "coffee   20.921259 -10.803796   coffee\n",
       "good     -3.244442  -9.479774     good\n",
       "bourbon  21.402313 -11.091810  bourbon\n",
       "like      6.317479 -12.092600     like"
      ]
     },
     "execution_count": 169,
     "metadata": {},
     "output_type": "execute_result"
    }
   ],
   "source": [
    "tsne_vectors.head()"
   ]
  },
  {
   "cell_type": "code",
   "execution_count": 170,
   "metadata": {},
   "outputs": [
    {
     "name": "stdout",
     "output_type": "stream",
     "text": [
      "['78820', '29619', '263364']\n"
     ]
    }
   ],
   "source": [
    "ids = list(beerDict.keys())\n",
    "print(ids)"
   ]
  },
  {
   "cell_type": "code",
   "execution_count": 171,
   "metadata": {},
   "outputs": [
    {
     "name": "stdout",
     "output_type": "stream",
     "text": [
      "['beer_x', 'beer_y', 'coffee_x', 'coffee_y', 'good_x', 'good_y', 'bourbon_x', 'bourbon_y', 'like_x', 'like_y', 'taste_x', 'taste_y', 'orange_x', 'orange_y', 'head_x', 'head_y', 'thick_x', 'thick_y', 'carbonation_x', 'carbonation_y', 'sweet_x', 'sweet_y', 'smell_x', 'smell_y', 'maple_syrup_x', 'maple_syrup_y', 'black_x', 'black_y', 'medium_x', 'medium_y', 'creamy_x', 'creamy_y', 'dark_x', 'dark_y', 'malt_x', 'malt_y', 'grapefruit_x', 'grapefruit_y', 'barrel_x', 'barrel_y', 'nice_x', 'nice_y', 'pour_x', 'pour_y', 'vanilla_x', 'vanilla_y', 'maple_x', 'maple_y', 'glass_x', 'glass_y', 'little_x', 'little_y', 'finish_x', 'finish_y', 'bright_x', 'bright_y', 'nose_x', 'nose_y', 'bottle_x', 'bottle_y', 'feel_x', 'feel_y', 'sweetness_x', 'sweetness_y', 'body_x', 'body_y', 'citrus_x', 'citrus_y', 'oak_x', 'oak_y', 'flavor_x', 'flavor_y', 'note_x', 'note_y', 'lace_x', 'lace_y', 'bitter_x', 'bitter_y', 'light_x', 'light_y', 'perfect_x', 'perfect_y', 'come_x', 'come_y', 'aroma_x', 'aroma_y', 'bit_of_x', 'bit_of_y', 'morning_delight_x', 'morning_delight_y', 'oz_x', 'oz_y', 'big_x', 'big_y', 'overall_x', 'overall_y', 'smooth_x', 'smooth_y', \"'s_x\", \"'s_y\", 'mouth_x', 'mouth_y', 'hint_of_x', 'hint_of_y', 'hop_x', 'hop_y', 'hazy_x', 'hazy_y', 'very_nice_x', 'very_nice_y', 'stout_x', 'stout_y', 'mouthfeel_x', 'mouthfeel_y', 'leave_x', 'leave_y', 'chocolate_x', 'chocolate_y', 'slightly_x', 'slightly_y', 'thank_x', 'thank_y', 'finger_x', 'finger_y', 'look_x', 'look_y', 'this_one_x', 'this_one_y', 'mango_x', 'mango_y', 'hype_x', 'hype_y', 'brown_x', 'brown_y', 'lot_of_x', 'lot_of_y', 'brew_x', 'brew_y', 'touch_x', 'touch_y', 'dark_chocolate_x', 'dark_chocolate_y', 'palate_x', 'palate_y', 'candy_x', 'candy_y', 'drink_x', 'drink_y', 'bitterness_x', 'bitterness_y', 'caramel_x', 'caramel_y', 'sticky_x', 'sticky_y', 'do_not_x', 'do_not_y', 'house_x', 'house_y', 'full_bodied_x', 'full_bodied_y', 'linger_x', 'linger_y', 'world_x', 'world_y', 'burn_x', 'burn_y', 'molass_x', 'molass_y', 'alcohol_x', 'alcohol_y', 'complex_x', 'complex_y', 'mocha_x', 'mocha_y', 'pineapple_x', 'pineapple_y', 'lemon_x', 'lemon_y', 'way_x', 'way_y', 'white_head_x', 'white_head_y', 'fresh_x', 'fresh_y', 'citra_x', 'citra_y', 'roasted_x', 'roasted_y', 'pour_into_x', 'pour_into_y', 'snifter_x', 'snifter_y', 'mornin_delight_x', 'mornin_delight_y', 'great_x', 'great_y', 'topple_goliath_x', 'topple_goliath_y', 'slight_x', 'slight_y', 'age_x', 'age_y', 'close_x', 'close_y', 'milk_chocolate_x', 'milk_chocolate_y', 'fruit_x', 'fruit_y', 'bodied_x', 'bodied_y', 'worth_x', 'worth_y', 'release_x', 'release_y', 'pretty_x', 'pretty_y', 'dry_x', 'dry_y', 'whisky_x', 'whisky_y', 'pine_x', 'pine_y', 'color_x', 'color_y', 'juicy_x', 'juicy_y', 'juice_x', 'juice_y', 'tangerine_x', 'tangerine_y', 'peach_x', 'peach_y', 'serve_x', 'serve_y', 'roast_x', 'roast_y', 'silky_x', 'silky_y', 'viscous_x', 'viscous_y', 'slowly_x', 'slowly_y', 'base_x', 'base_y', 'ton_x', 'ton_y', 'tongue_x', 'tongue_y', 'brownie_x', 'brownie_y', 'whiskey_x', 'whiskey_y', 'earthy_x', 'earthy_y', 'wax_x', 'wax_y', 'retention_x', 'retention_y', 'different_x', 'different_y', 'easy_x', 'easy_y', 'tree_x', 'tree_y', 'gold_x', 'gold_y', 'moderate_x', 'moderate_y', 'booze_x', 'booze_y', 'time_x', 'time_y', 'right_x', 'right_y', 'pure_x', 'pure_y', 'bring_x', 'bring_y', 'version_x', 'version_y', 'fade_x', 'fade_y', 'love_x', 'love_y', 'golden_x', 'golden_y', 'decent_x', 'decent_y', 'floral_x', 'floral_y', 'fairly_x', 'fairly_y', 'herbal_x', 'herbal_y', 'tropical_x', 'tropical_y', 'peel_x', 'peel_y', 'dank_x', 'dank_y', 'tan_x', 'tan_y', 'live_x', 'live_y', 'appearance_x', 'appearance_y', 'class_x', 'class_y', 'sip_x', 'sip_y', 'absolutely_x', 'absolutely_y', 'review_x', 'review_y', 'sugar_x', 'sugar_y', 'rich_x', 'rich_y', 'mellow_x', 'mellow_y', 'balanced_x', 'balanced_y', 'low_x', 'low_y', 'point_x', 'point_y', 'heat_x', 'heat_y', 'coat_x', 'coat_y', 'away_x', 'away_y', 'wood_x', 'wood_y', 'provide_x', 'provide_y', 'character_x', 'character_y', 'clap_x', 'clap_y', 'pick_x', 'pick_y', 'half_x', 'half_y', 'wife_x', 'wife_y', 'fudge_x', 'fudge_y', 'delicious_x', 'delicious_y', 'definitely_x', 'definitely_y', 'style_x', 'style_y', 'brewery_x', 'brewery_y', 'foam_x', 'foam_y', 'grassy_x', 'grassy_y', 'yellow_x', 'yellow_y', 'hoppy_x', 'hoppy_y', 'rind_x', 'rind_y', 'try_x', 'try_y', 'huge_x', 'huge_y', 'overly_x', 'overly_y', 'end_x', 'end_y', 'amazing_x', 'amazing_y', 'assassin_x', 'assassin_y', 'boozy_x', 'boozy_y', 'balance_x', 'balance_y', 'night_x', 'night_y', 'strap_x', 'strap_y', 'spot_x', 'spot_y', 'share_x', 'share_y', 'tasting_x', 'tasting_y', 'st_x', 'st_y', 'hand_x', 'hand_y', 'small_x', 'small_y', 'presence_x', 'presence_y', 'type_x', 'type_y', 'foot_x', 'foot_y', 'aged_x', 'aged_y', 'silver_x', 'silver_y', 'bold_x', 'bold_y', 'mild_x', 'mild_y', 'add_x', 'add_y', 'excellent_x', 'excellent_y', 'nicely_x', 'nicely_y', 'able_x', 'able_y', 'noticeable_x', 'noticeable_y', 'plenty_x', 'plenty_y', '5_x', '5_y', 'room_x', 'room_y', 'toast_x', 'toast_y', 'tulip_x', 'tulip_y', 'exactly_x', 'exactly_y', 'smells_x', 'smells_y', 'splash_x', 'splash_y', '12_x', '12_y', 'wow_x', 'wow_y', 'run_x', 'run_y', 'day_x', 'day_y', 'score_x', 'score_y', 'fantastic_x', 'fantastic_y', 'liquid_x', 'liquid_y', 'ring_x', 'ring_y', 'cream_x', 'cream_y', 'hide_x', 'hide_y', 'warmth_x', 'warmth_y', 'clean_x', 'clean_y', 'hard_x', 'hard_y', 'level_x', 'level_y', 'second_x', 'second_y', 'find_x', 'find_y', 'malty_x', 'malty_y', 'piney_x', 'piney_y', 'fruity_x', 'fruity_y', 'ipa_x', 'ipa_y', '’_x', '’_y', 'white_x', 'white_y', 'foamy_x', 'foamy_y', 'aipa_x', 'aipa_y', 'sort_x', 'sort_y', 'fuggle_x', 'fuggle_y', 'grain_x', 'grain_y', 'toasty_x', 'toasty_y', 'quality_x', 'quality_y', 'marmalade_x', 'marmalade_y', 'm_x', 'm_y', 'pale_x', 'pale_y', 'julius_x', 'julius_y', 'poured_x', 'poured_y', 's_x', 's_y', 't_x', 't_y', 'similar_x', 'similar_y', 'bready_x', 'bready_y', 'o_x', 'o_y', 'date_x', 'date_y', 'lime_x', 'lime_y', 'bite_x', 'bite_y', 'stuff_x', 'stuff_y', 'eye_x', 'eye_y', 'label_x', 'label_y', 'variant_x', 'variant_y', 'want_x', 'want_y', 'stain_x', 'stain_y', 'sharp_x', 'sharp_y', 'aside_x', 'aside_y', 'whatev_x', 'whatev_y', 'mean_x', 'mean_y', 'deliver_x', 'deliver_y', 'temper_x', 'temper_y', 'prefer_x', 'prefer_y', 'ba_x', 'ba_y', 'incredible_x', 'incredible_y', 'leg_x', 'leg_y', 'cloy_x', 'cloy_y', 'month_x', 'month_y', 'extremely_x', 'extremely_y', 'dominate_x', 'dominate_y', 'roasty_x', 'roasty_y', 'aspect_x', 'aspect_y', 'cbs_x', 'cbs_y', 'wish_x', 'wish_y', '2014_x', '2014_y', 'super_x', 'super_y', 'motor_x', 'motor_y', 'oil_x', 'oil_y', 'integrate_x', 'integrate_y', 'follow_x', 'follow_y', 'minus_x', 'minus_y', 'berry_x', 'berry_y', 'craft_x', 'craft_y', 'aggressive_x', 'aggressive_y', 'appear_x', 'appear_y', 'fair_x', 'fair_y', 'lot_x', 'lot_y', 'bad_x', 'bad_y', 'thing_x', 'thing_y', 'bit_x', 'bit_y', 'background_x', 'background_y', 'flavour_x', 'flavour_y', 'necessarily_x', 'necessarily_y', 'kbbs_x', 'kbbs_y', 'actually_x', 'actually_y', 'vanillin_x', 'vanillin_y', 'funky_x', 'funky_y', 'darrel_x', 'darrel_y', 'tasty_x', 'tasty_y', 'meld_x', 'meld_y', 'perfectly_x', 'perfectly_y', 'clark_x', 'clark_y', 'favorite_x', 'favorite_y', 'honestly_x', 'honestly_y', 'compliment_x', 'compliment_y', 'kentucky_x', 'kentucky_y', 'brunch_x', 'brunch_y', 'equal_x', 'equal_y', 'non_x', 'non_y', 'happen_x', 'happen_y', 'single_x', 'single_y', 'rest_x', 'rest_y', 'pancake_x', 'pancake_y', 'cold_x', 'cold_y', 'press_x', 'press_y', 'place_x', 'place_y', 'kitchen_x', 'kitchen_y', 'set_x', 'set_y', 'possibly_x', 'possibly_y', 'batch_x', 'batch_y', 'bomb_x', 'bomb_y', 'drinkable_x', 'drinkable_y', 'think_x', 'think_y', 'holy_x', 'holy_y', 'reach_x', 'reach_y', 'toffee_x', 'toffee_y', 'tg_x', 'tg_y', 'eventually_x', 'eventually_y', 'nutty_x', 'nutty_y', 'undertone_x', 'undertone_y', 'coconut_x', 'coconut_y', 'batter_x', 'batter_y', 'pop_x', 'pop_y', 'minute_x', 'minute_y', 'experience_x', 'experience_y', 'jet_x', 'jet_y', 'strong_x', 'strong_y', 'door_x', 'door_y', 'evident_x', 'evident_y', 'wisp_x', 'wisp_y', 'faint_x', 'faint_y', 'fall_x', 'fall_y', 'butterscotch_x', 'butterscotch_y', 'pull_x', 'pull_y', 'rare_x', 'rare_y', 'surpass_x', 'surpass_y', 'friend_x', 'friend_y', 'warm_x', 'warm_y', 'nonic_x', 'nonic_y', 'dissipate_x', 'dissipate_y', 'fine_x', 'fine_y', 'sessionability_x', 'sessionability_y', 'clear_x', 'clear_y', 'patchy_x', 'patchy_y', 'atop_x', 'atop_y', 'cling_x', 'cling_y', 'bouquet_x', 'bouquet_y', 'flower_x', 'flower_y', 'sculpin_x', 'sculpin_y', 'somewhat_x', 'somewhat_y', 'pace_x', 'pace_y', 'explode_x', 'explode_y', 'pith_x', 'pith_y', 'expect_x', 'expect_y', 'cloudy_x', 'cloudy_y', 'diesel_x', 'diesel_y', 'abv_x', 'abv_y', 'bill_x', 'bill_y', 'use_x', 'use_y', 'backbone_x', 'backbone_y', 'solid_x', 'solid_y', 'carbonate_x', 'carbonate_y', 'mind_x', 'mind_y', 'dipa_x', 'dipa_y', 'regular_x', 'regular_y', 'glad_x', 'glad_y', 'haze_x', 'haze_y', 'tangy_x', 'tangy_y', 'oily_x', 'oily_y', 'zest_x', 'zest_y', 'zesty_x', 'zesty_y', 'tiny_x', 'tiny_y', 'crisp_x', 'crisp_y', '16_x', '16_y', 'gentle_x', 'gentle_y', 'hit_x', 'hit_y', 'roll_x', 'roll_y', 'advertise_x', 'advertise_y', 'let_x', 'let_y']\n"
     ]
    }
   ],
   "source": [
    "list1 = []\n",
    "for i in tsne_vectors.index:\n",
    "    list1.append(i + '_x')\n",
    "    list1.append(i + '_y')\n",
    "print(list1)"
   ]
  },
  {
   "cell_type": "code",
   "execution_count": 174,
   "metadata": {},
   "outputs": [
    {
     "data": {
      "text/html": [
       "<div>\n",
       "<style>\n",
       "    .dataframe thead tr:only-child th {\n",
       "        text-align: right;\n",
       "    }\n",
       "\n",
       "    .dataframe thead th {\n",
       "        text-align: left;\n",
       "    }\n",
       "\n",
       "    .dataframe tbody tr th {\n",
       "        vertical-align: top;\n",
       "    }\n",
       "</style>\n",
       "<table border=\"1\" class=\"dataframe\">\n",
       "  <thead>\n",
       "    <tr style=\"text-align: right;\">\n",
       "      <th></th>\n",
       "      <th>beer_x</th>\n",
       "      <th>beer_y</th>\n",
       "      <th>coffee_x</th>\n",
       "      <th>coffee_y</th>\n",
       "      <th>good_x</th>\n",
       "      <th>good_y</th>\n",
       "      <th>bourbon_x</th>\n",
       "      <th>bourbon_y</th>\n",
       "      <th>like_x</th>\n",
       "      <th>like_y</th>\n",
       "      <th>...</th>\n",
       "      <th>gentle_x</th>\n",
       "      <th>gentle_y</th>\n",
       "      <th>hit_x</th>\n",
       "      <th>hit_y</th>\n",
       "      <th>roll_x</th>\n",
       "      <th>roll_y</th>\n",
       "      <th>advertise_x</th>\n",
       "      <th>advertise_y</th>\n",
       "      <th>let_x</th>\n",
       "      <th>let_y</th>\n",
       "    </tr>\n",
       "  </thead>\n",
       "  <tbody>\n",
       "    <tr>\n",
       "      <th>78820</th>\n",
       "      <td>NaN</td>\n",
       "      <td>NaN</td>\n",
       "      <td>NaN</td>\n",
       "      <td>NaN</td>\n",
       "      <td>NaN</td>\n",
       "      <td>NaN</td>\n",
       "      <td>NaN</td>\n",
       "      <td>NaN</td>\n",
       "      <td>NaN</td>\n",
       "      <td>NaN</td>\n",
       "      <td>...</td>\n",
       "      <td>NaN</td>\n",
       "      <td>NaN</td>\n",
       "      <td>NaN</td>\n",
       "      <td>NaN</td>\n",
       "      <td>NaN</td>\n",
       "      <td>NaN</td>\n",
       "      <td>NaN</td>\n",
       "      <td>NaN</td>\n",
       "      <td>NaN</td>\n",
       "      <td>NaN</td>\n",
       "    </tr>\n",
       "    <tr>\n",
       "      <th>29619</th>\n",
       "      <td>NaN</td>\n",
       "      <td>NaN</td>\n",
       "      <td>NaN</td>\n",
       "      <td>NaN</td>\n",
       "      <td>NaN</td>\n",
       "      <td>NaN</td>\n",
       "      <td>NaN</td>\n",
       "      <td>NaN</td>\n",
       "      <td>NaN</td>\n",
       "      <td>NaN</td>\n",
       "      <td>...</td>\n",
       "      <td>NaN</td>\n",
       "      <td>NaN</td>\n",
       "      <td>NaN</td>\n",
       "      <td>NaN</td>\n",
       "      <td>NaN</td>\n",
       "      <td>NaN</td>\n",
       "      <td>NaN</td>\n",
       "      <td>NaN</td>\n",
       "      <td>NaN</td>\n",
       "      <td>NaN</td>\n",
       "    </tr>\n",
       "    <tr>\n",
       "      <th>263364</th>\n",
       "      <td>NaN</td>\n",
       "      <td>NaN</td>\n",
       "      <td>NaN</td>\n",
       "      <td>NaN</td>\n",
       "      <td>NaN</td>\n",
       "      <td>NaN</td>\n",
       "      <td>NaN</td>\n",
       "      <td>NaN</td>\n",
       "      <td>NaN</td>\n",
       "      <td>NaN</td>\n",
       "      <td>...</td>\n",
       "      <td>NaN</td>\n",
       "      <td>NaN</td>\n",
       "      <td>NaN</td>\n",
       "      <td>NaN</td>\n",
       "      <td>NaN</td>\n",
       "      <td>NaN</td>\n",
       "      <td>NaN</td>\n",
       "      <td>NaN</td>\n",
       "      <td>NaN</td>\n",
       "      <td>NaN</td>\n",
       "    </tr>\n",
       "  </tbody>\n",
       "</table>\n",
       "<p>3 rows × 800 columns</p>\n",
       "</div>"
      ],
      "text/plain": [
       "       beer_x beer_y coffee_x coffee_y good_x good_y bourbon_x bourbon_y  \\\n",
       "78820     NaN    NaN      NaN      NaN    NaN    NaN       NaN       NaN   \n",
       "29619     NaN    NaN      NaN      NaN    NaN    NaN       NaN       NaN   \n",
       "263364    NaN    NaN      NaN      NaN    NaN    NaN       NaN       NaN   \n",
       "\n",
       "       like_x like_y  ...  gentle_x gentle_y hit_x hit_y roll_x roll_y  \\\n",
       "78820     NaN    NaN  ...       NaN      NaN   NaN   NaN    NaN    NaN   \n",
       "29619     NaN    NaN  ...       NaN      NaN   NaN   NaN    NaN    NaN   \n",
       "263364    NaN    NaN  ...       NaN      NaN   NaN   NaN    NaN    NaN   \n",
       "\n",
       "       advertise_x advertise_y let_x let_y  \n",
       "78820          NaN         NaN   NaN   NaN  \n",
       "29619          NaN         NaN   NaN   NaN  \n",
       "263364         NaN         NaN   NaN   NaN  \n",
       "\n",
       "[3 rows x 800 columns]"
      ]
     },
     "execution_count": 174,
     "metadata": {},
     "output_type": "execute_result"
    }
   ],
   "source": [
    "masterDF = pd.DataFrame(columns=list1, index=ids)\n",
    "masterDF.head()"
   ]
  },
  {
   "cell_type": "code",
   "execution_count": 126,
   "metadata": {},
   "outputs": [
    {
     "data": {
      "text/html": [
       "<div>\n",
       "<style>\n",
       "    .dataframe thead tr:only-child th {\n",
       "        text-align: right;\n",
       "    }\n",
       "\n",
       "    .dataframe thead th {\n",
       "        text-align: left;\n",
       "    }\n",
       "\n",
       "    .dataframe tbody tr th {\n",
       "        vertical-align: top;\n",
       "    }\n",
       "</style>\n",
       "<table border=\"1\" class=\"dataframe\">\n",
       "  <thead>\n",
       "    <tr style=\"text-align: right;\">\n",
       "      <th></th>\n",
       "      <th>coffee_x</th>\n",
       "      <th>coffee_y</th>\n",
       "      <th>bourbon_x</th>\n",
       "      <th>bourbon_y</th>\n",
       "      <th>chocolate_x</th>\n",
       "      <th>chocolate_y</th>\n",
       "      <th>beer_x</th>\n",
       "      <th>beer_y</th>\n",
       "      <th>black_x</th>\n",
       "      <th>black_y</th>\n",
       "      <th>...</th>\n",
       "      <th>perfect_x</th>\n",
       "      <th>perfect_y</th>\n",
       "      <th>taste_x</th>\n",
       "      <th>taste_y</th>\n",
       "      <th>hype_x</th>\n",
       "      <th>hype_y</th>\n",
       "      <th>pour_x</th>\n",
       "      <th>pour_y</th>\n",
       "      <th>medium_x</th>\n",
       "      <th>medium_y</th>\n",
       "    </tr>\n",
       "  </thead>\n",
       "  <tbody>\n",
       "    <tr>\n",
       "      <th>78820</th>\n",
       "      <td>NaN</td>\n",
       "      <td>NaN</td>\n",
       "      <td>NaN</td>\n",
       "      <td>NaN</td>\n",
       "      <td>NaN</td>\n",
       "      <td>NaN</td>\n",
       "      <td>NaN</td>\n",
       "      <td>NaN</td>\n",
       "      <td>-72.2983</td>\n",
       "      <td>370.203</td>\n",
       "      <td>...</td>\n",
       "      <td>NaN</td>\n",
       "      <td>NaN</td>\n",
       "      <td>NaN</td>\n",
       "      <td>NaN</td>\n",
       "      <td>NaN</td>\n",
       "      <td>NaN</td>\n",
       "      <td>NaN</td>\n",
       "      <td>NaN</td>\n",
       "      <td>NaN</td>\n",
       "      <td>NaN</td>\n",
       "    </tr>\n",
       "  </tbody>\n",
       "</table>\n",
       "<p>1 rows × 40 columns</p>\n",
       "</div>"
      ],
      "text/plain": [
       "      coffee_x coffee_y bourbon_x bourbon_y chocolate_x chocolate_y beer_x  \\\n",
       "78820      NaN      NaN       NaN       NaN         NaN         NaN    NaN   \n",
       "\n",
       "      beer_y  black_x  black_y   ...    perfect_x perfect_y taste_x taste_y  \\\n",
       "78820    NaN -72.2983  370.203   ...          NaN       NaN     NaN     NaN   \n",
       "\n",
       "      hype_x hype_y pour_x pour_y medium_x medium_y  \n",
       "78820    NaN    NaN    NaN    NaN      NaN      NaN  \n",
       "\n",
       "[1 rows x 40 columns]"
      ]
     },
     "execution_count": 126,
     "metadata": {},
     "output_type": "execute_result"
    }
   ],
   "source": [
    "masterDF"
   ]
  },
  {
   "cell_type": "code",
   "execution_count": 175,
   "metadata": {},
   "outputs": [],
   "source": [
    "for key, value in beerDict.items():\n",
    "    for k2, v2 in value.items():\n",
    "        try:\n",
    "            x_val = tsne_vectors.loc[k2]['x_coord'] * v2\n",
    "            columnLookupX = k2 + '_x'\n",
    "            masterDF.loc[key][columnLookupX] = x_val\n",
    "\n",
    "            y_val = tsne_vectors.loc[k2]['y_coord'] * v2\n",
    "            columnLookupY = k2 + '_y'\n",
    "            masterDF.loc[key][columnLookupY] = y_val\n",
    "        except KeyError:\n",
    "            pass"
   ]
  },
  {
   "cell_type": "code",
   "execution_count": 105,
   "metadata": {},
   "outputs": [
    {
     "data": {
      "text/plain": [
       "-101.04704"
      ]
     },
     "execution_count": 105,
     "metadata": {},
     "output_type": "execute_result"
    }
   ],
   "source": [
    "tsne_vectors.loc['coffee']['x_coord']"
   ]
  },
  {
   "cell_type": "code",
   "execution_count": 176,
   "metadata": {},
   "outputs": [
    {
     "data": {
      "text/html": [
       "<div>\n",
       "<style>\n",
       "    .dataframe thead tr:only-child th {\n",
       "        text-align: right;\n",
       "    }\n",
       "\n",
       "    .dataframe thead th {\n",
       "        text-align: left;\n",
       "    }\n",
       "\n",
       "    .dataframe tbody tr th {\n",
       "        vertical-align: top;\n",
       "    }\n",
       "</style>\n",
       "<table border=\"1\" class=\"dataframe\">\n",
       "  <thead>\n",
       "    <tr style=\"text-align: right;\">\n",
       "      <th></th>\n",
       "      <th>beer_x</th>\n",
       "      <th>beer_y</th>\n",
       "      <th>coffee_x</th>\n",
       "      <th>coffee_y</th>\n",
       "      <th>good_x</th>\n",
       "      <th>good_y</th>\n",
       "      <th>bourbon_x</th>\n",
       "      <th>bourbon_y</th>\n",
       "      <th>like_x</th>\n",
       "      <th>like_y</th>\n",
       "      <th>...</th>\n",
       "      <th>gentle_x</th>\n",
       "      <th>gentle_y</th>\n",
       "      <th>hit_x</th>\n",
       "      <th>hit_y</th>\n",
       "      <th>roll_x</th>\n",
       "      <th>roll_y</th>\n",
       "      <th>advertise_x</th>\n",
       "      <th>advertise_y</th>\n",
       "      <th>let_x</th>\n",
       "      <th>let_y</th>\n",
       "    </tr>\n",
       "  </thead>\n",
       "  <tbody>\n",
       "    <tr>\n",
       "      <th>78820</th>\n",
       "      <td>-161.517</td>\n",
       "      <td>309.454</td>\n",
       "      <td>753.165</td>\n",
       "      <td>-388.937</td>\n",
       "      <td>-55.1555</td>\n",
       "      <td>-161.156</td>\n",
       "      <td>684.874</td>\n",
       "      <td>-354.938</td>\n",
       "      <td>138.985</td>\n",
       "      <td>-266.037</td>\n",
       "      <td>...</td>\n",
       "      <td>NaN</td>\n",
       "      <td>NaN</td>\n",
       "      <td>NaN</td>\n",
       "      <td>NaN</td>\n",
       "      <td>NaN</td>\n",
       "      <td>NaN</td>\n",
       "      <td>NaN</td>\n",
       "      <td>NaN</td>\n",
       "      <td>NaN</td>\n",
       "      <td>NaN</td>\n",
       "    </tr>\n",
       "    <tr>\n",
       "      <th>29619</th>\n",
       "      <td>-8.28291</td>\n",
       "      <td>15.8694</td>\n",
       "      <td>NaN</td>\n",
       "      <td>NaN</td>\n",
       "      <td>-12.9778</td>\n",
       "      <td>-37.9191</td>\n",
       "      <td>NaN</td>\n",
       "      <td>NaN</td>\n",
       "      <td>6.31748</td>\n",
       "      <td>-12.0926</td>\n",
       "      <td>...</td>\n",
       "      <td>NaN</td>\n",
       "      <td>NaN</td>\n",
       "      <td>NaN</td>\n",
       "      <td>NaN</td>\n",
       "      <td>NaN</td>\n",
       "      <td>NaN</td>\n",
       "      <td>NaN</td>\n",
       "      <td>NaN</td>\n",
       "      <td>NaN</td>\n",
       "      <td>NaN</td>\n",
       "    </tr>\n",
       "    <tr>\n",
       "      <th>263364</th>\n",
       "      <td>-66.2633</td>\n",
       "      <td>126.955</td>\n",
       "      <td>NaN</td>\n",
       "      <td>NaN</td>\n",
       "      <td>-38.9333</td>\n",
       "      <td>-113.757</td>\n",
       "      <td>NaN</td>\n",
       "      <td>NaN</td>\n",
       "      <td>56.8573</td>\n",
       "      <td>-108.833</td>\n",
       "      <td>...</td>\n",
       "      <td>-12.2947</td>\n",
       "      <td>9.69225</td>\n",
       "      <td>17.0956</td>\n",
       "      <td>3.97984</td>\n",
       "      <td>-11.189</td>\n",
       "      <td>7.70579</td>\n",
       "      <td>15.8058</td>\n",
       "      <td>6.6904</td>\n",
       "      <td>13.7154</td>\n",
       "      <td>-17.9538</td>\n",
       "    </tr>\n",
       "  </tbody>\n",
       "</table>\n",
       "<p>3 rows × 800 columns</p>\n",
       "</div>"
      ],
      "text/plain": [
       "         beer_x   beer_y coffee_x coffee_y   good_x   good_y bourbon_x  \\\n",
       "78820  -161.517  309.454  753.165 -388.937 -55.1555 -161.156   684.874   \n",
       "29619  -8.28291  15.8694      NaN      NaN -12.9778 -37.9191       NaN   \n",
       "263364 -66.2633  126.955      NaN      NaN -38.9333 -113.757       NaN   \n",
       "\n",
       "       bourbon_y   like_x   like_y   ...    gentle_x gentle_y    hit_x  \\\n",
       "78820   -354.938  138.985 -266.037   ...         NaN      NaN      NaN   \n",
       "29619        NaN  6.31748 -12.0926   ...         NaN      NaN      NaN   \n",
       "263364       NaN  56.8573 -108.833   ...    -12.2947  9.69225  17.0956   \n",
       "\n",
       "          hit_y  roll_x   roll_y advertise_x advertise_y    let_x    let_y  \n",
       "78820       NaN     NaN      NaN         NaN         NaN      NaN      NaN  \n",
       "29619       NaN     NaN      NaN         NaN         NaN      NaN      NaN  \n",
       "263364  3.97984 -11.189  7.70579     15.8058      6.6904  13.7154 -17.9538  \n",
       "\n",
       "[3 rows x 800 columns]"
      ]
     },
     "execution_count": 176,
     "metadata": {},
     "output_type": "execute_result"
    }
   ],
   "source": [
    "masterDF"
   ]
  },
  {
   "cell_type": "code",
   "execution_count": 177,
   "metadata": {},
   "outputs": [],
   "source": [
    "masterDF.fillna(0, inplace=True)"
   ]
  },
  {
   "cell_type": "code",
   "execution_count": 178,
   "metadata": {},
   "outputs": [
    {
     "data": {
      "text/html": [
       "<div>\n",
       "<style>\n",
       "    .dataframe thead tr:only-child th {\n",
       "        text-align: right;\n",
       "    }\n",
       "\n",
       "    .dataframe thead th {\n",
       "        text-align: left;\n",
       "    }\n",
       "\n",
       "    .dataframe tbody tr th {\n",
       "        vertical-align: top;\n",
       "    }\n",
       "</style>\n",
       "<table border=\"1\" class=\"dataframe\">\n",
       "  <thead>\n",
       "    <tr style=\"text-align: right;\">\n",
       "      <th></th>\n",
       "      <th>beer_x</th>\n",
       "      <th>beer_y</th>\n",
       "      <th>coffee_x</th>\n",
       "      <th>coffee_y</th>\n",
       "      <th>good_x</th>\n",
       "      <th>good_y</th>\n",
       "      <th>bourbon_x</th>\n",
       "      <th>bourbon_y</th>\n",
       "      <th>like_x</th>\n",
       "      <th>like_y</th>\n",
       "      <th>...</th>\n",
       "      <th>gentle_x</th>\n",
       "      <th>gentle_y</th>\n",
       "      <th>hit_x</th>\n",
       "      <th>hit_y</th>\n",
       "      <th>roll_x</th>\n",
       "      <th>roll_y</th>\n",
       "      <th>advertise_x</th>\n",
       "      <th>advertise_y</th>\n",
       "      <th>let_x</th>\n",
       "      <th>let_y</th>\n",
       "    </tr>\n",
       "  </thead>\n",
       "  <tbody>\n",
       "    <tr>\n",
       "      <th>78820</th>\n",
       "      <td>-161.516770</td>\n",
       "      <td>309.453728</td>\n",
       "      <td>753.165321</td>\n",
       "      <td>-388.936649</td>\n",
       "      <td>-55.155506</td>\n",
       "      <td>-161.156150</td>\n",
       "      <td>684.874023</td>\n",
       "      <td>-354.937927</td>\n",
       "      <td>138.984530</td>\n",
       "      <td>-266.037197</td>\n",
       "      <td>...</td>\n",
       "      <td>0.000000</td>\n",
       "      <td>0.000000</td>\n",
       "      <td>0.000000</td>\n",
       "      <td>0.000000</td>\n",
       "      <td>0.000000</td>\n",
       "      <td>0.000000</td>\n",
       "      <td>0.000000</td>\n",
       "      <td>0.000000</td>\n",
       "      <td>0.000000</td>\n",
       "      <td>0.00000</td>\n",
       "    </tr>\n",
       "    <tr>\n",
       "      <th>29619</th>\n",
       "      <td>-8.282911</td>\n",
       "      <td>15.869422</td>\n",
       "      <td>0.000000</td>\n",
       "      <td>0.000000</td>\n",
       "      <td>-12.977766</td>\n",
       "      <td>-37.919094</td>\n",
       "      <td>0.000000</td>\n",
       "      <td>0.000000</td>\n",
       "      <td>6.317479</td>\n",
       "      <td>-12.092600</td>\n",
       "      <td>...</td>\n",
       "      <td>0.000000</td>\n",
       "      <td>0.000000</td>\n",
       "      <td>0.000000</td>\n",
       "      <td>0.000000</td>\n",
       "      <td>0.000000</td>\n",
       "      <td>0.000000</td>\n",
       "      <td>0.000000</td>\n",
       "      <td>0.000000</td>\n",
       "      <td>0.000000</td>\n",
       "      <td>0.00000</td>\n",
       "    </tr>\n",
       "    <tr>\n",
       "      <th>263364</th>\n",
       "      <td>-66.263290</td>\n",
       "      <td>126.955376</td>\n",
       "      <td>0.000000</td>\n",
       "      <td>0.000000</td>\n",
       "      <td>-38.933298</td>\n",
       "      <td>-113.757282</td>\n",
       "      <td>0.000000</td>\n",
       "      <td>0.000000</td>\n",
       "      <td>56.857308</td>\n",
       "      <td>-108.833399</td>\n",
       "      <td>...</td>\n",
       "      <td>-12.294682</td>\n",
       "      <td>9.692248</td>\n",
       "      <td>17.095621</td>\n",
       "      <td>3.979839</td>\n",
       "      <td>-11.189038</td>\n",
       "      <td>7.705787</td>\n",
       "      <td>15.805769</td>\n",
       "      <td>6.690396</td>\n",
       "      <td>13.715393</td>\n",
       "      <td>-17.95384</td>\n",
       "    </tr>\n",
       "  </tbody>\n",
       "</table>\n",
       "<p>3 rows × 800 columns</p>\n",
       "</div>"
      ],
      "text/plain": [
       "            beer_x      beer_y    coffee_x    coffee_y     good_x      good_y  \\\n",
       "78820  -161.516770  309.453728  753.165321 -388.936649 -55.155506 -161.156150   \n",
       "29619    -8.282911   15.869422    0.000000    0.000000 -12.977766  -37.919094   \n",
       "263364  -66.263290  126.955376    0.000000    0.000000 -38.933298 -113.757282   \n",
       "\n",
       "         bourbon_x   bourbon_y      like_x      like_y    ...      gentle_x  \\\n",
       "78820   684.874023 -354.937927  138.984530 -266.037197    ...      0.000000   \n",
       "29619     0.000000    0.000000    6.317479  -12.092600    ...      0.000000   \n",
       "263364    0.000000    0.000000   56.857308 -108.833399    ...    -12.294682   \n",
       "\n",
       "        gentle_y      hit_x     hit_y     roll_x    roll_y  advertise_x  \\\n",
       "78820   0.000000   0.000000  0.000000   0.000000  0.000000     0.000000   \n",
       "29619   0.000000   0.000000  0.000000   0.000000  0.000000     0.000000   \n",
       "263364  9.692248  17.095621  3.979839 -11.189038  7.705787    15.805769   \n",
       "\n",
       "        advertise_y      let_x     let_y  \n",
       "78820      0.000000   0.000000   0.00000  \n",
       "29619      0.000000   0.000000   0.00000  \n",
       "263364     6.690396  13.715393 -17.95384  \n",
       "\n",
       "[3 rows x 800 columns]"
      ]
     },
     "execution_count": 178,
     "metadata": {},
     "output_type": "execute_result"
    }
   ],
   "source": [
    "masterDF"
   ]
  },
  {
   "cell_type": "code",
   "execution_count": 195,
   "metadata": {},
   "outputs": [],
   "source": [
    "from sklearn.metrics.pairwise import cosine_similarity\n",
    "from scipy import spatial\n",
    "from itertools import combinations"
   ]
  },
  {
   "cell_type": "code",
   "execution_count": 192,
   "metadata": {},
   "outputs": [
    {
     "data": {
      "text/plain": [
       "['78820', '29619', '263364']"
      ]
     },
     "execution_count": 192,
     "metadata": {},
     "output_type": "execute_result"
    }
   ],
   "source": [
    "list(masterDF.index)"
   ]
  },
  {
   "cell_type": "code",
   "execution_count": 199,
   "metadata": {},
   "outputs": [
    {
     "name": "stdout",
     "output_type": "stream",
     "text": [
      "The similarity between 78820 and 29619 is 0.31598742578451433\n",
      "The similarity between 78820 and 263364 is 0.27963418099781556\n",
      "The similarity between 29619 and 263364 is 0.5599509788419919\n"
     ]
    }
   ],
   "source": [
    "for pair in combinations(list(masterDF.index), 2):\n",
    "    cs = 1 - spatial.distance.cosine(masterDF.loc[pair[0]].values.reshape(-1,1), masterDF.loc[pair[1]].values.reshape(-1,1))\n",
    "    print(f'The similarity between {pair[0]} and {pair[1]} is {cs}')"
   ]
  },
  {
   "cell_type": "code",
   "execution_count": null,
   "metadata": {},
   "outputs": [],
   "source": []
  },
  {
   "cell_type": "code",
   "execution_count": null,
   "metadata": {},
   "outputs": [],
   "source": [
    "# find the similarity between every beer pair\n",
    "# create a dictionary where the key is the beer and value is the list of beers from most to least similar"
   ]
  },
  {
   "cell_type": "raw",
   "metadata": {},
   "source": []
  },
  {
   "cell_type": "code",
   "execution_count": null,
   "metadata": {},
   "outputs": [],
   "source": []
  }
 ],
 "metadata": {
  "kernelspec": {
   "display_name": "Python 3",
   "language": "python",
   "name": "python3"
  },
  "language_info": {
   "codemirror_mode": {
    "name": "ipython",
    "version": 3
   },
   "file_extension": ".py",
   "mimetype": "text/x-python",
   "name": "python",
   "nbconvert_exporter": "python",
   "pygments_lexer": "ipython3",
   "version": "3.6.3"
  }
 },
 "nbformat": 4,
 "nbformat_minor": 2
}
